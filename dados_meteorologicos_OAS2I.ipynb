{
  "nbformat": 4,
  "nbformat_minor": 0,
  "metadata": {
    "colab": {
      "provenance": [],
      "collapsed_sections": [
        "-8sXBPt9a27N",
        "PLYaU5DkSQ-l",
        "T5dahYGFSQ-z",
        "B4T9efZgSQ-0",
        "sduXSr78s2Rj",
        "y0rzsg3-SQ_P"
      ],
      "toc_visible": true
    },
    "hide_input": false,
    "kernelspec": {
      "display_name": "Python 3",
      "language": "python",
      "name": "python3"
    },
    "language_info": {
      "codemirror_mode": {
        "name": "ipython",
        "version": 3
      },
      "file_extension": ".py",
      "mimetype": "text/x-python",
      "name": "python",
      "nbconvert_exporter": "python",
      "pygments_lexer": "ipython3",
      "version": "3.8.5"
    },
    "latex_envs": {
      "LaTeX_envs_menu_present": true,
      "autoclose": false,
      "autocomplete": true,
      "bibliofile": "biblio.bib",
      "cite_by": "apalike",
      "current_citInitial": 1,
      "eqLabelWithNumbers": true,
      "eqNumInitial": 1,
      "hotkeys": {
        "equation": "Ctrl-E",
        "itemize": "Ctrl-I"
      },
      "labels_anchors": false,
      "latex_user_defs": false,
      "report_style_numbering": false,
      "user_envs_cfg": false
    },
    "toc": {
      "base_numbering": 1,
      "nav_menu": {},
      "number_sections": true,
      "sideBar": true,
      "skip_h1_title": false,
      "title_cell": "Table of Contents",
      "title_sidebar": "Contents",
      "toc_cell": false,
      "toc_position": {
        "height": "496.867px",
        "left": "1193px",
        "top": "110.333px",
        "width": "234.533px"
      },
      "toc_section_display": true,
      "toc_window_display": true
    }
  },
  "cells": [
    {
      "cell_type": "code",
      "metadata": {
        "colab": {
          "base_uri": "https://localhost:8080/"
        },
        "id": "S-4yW6CBTym5",
        "outputId": "d1a8f7d8-a054-4ffc-ea0f-85bd65d4180f"
      },
      "source": [
        "#!pip install chart-studio"
      ],
      "execution_count": null,
      "outputs": [
        {
          "output_type": "stream",
          "text": [
            "Collecting chart-studio\n",
            "\u001b[?25l  Downloading https://files.pythonhosted.org/packages/ca/ce/330794a6b6ca4b9182c38fc69dd2a9cbff60fd49421cb8648ee5fee352dc/chart_studio-1.1.0-py3-none-any.whl (64kB)\n",
            "\r\u001b[K     |█████                           | 10kB 15.3MB/s eta 0:00:01\r\u001b[K     |██████████▏                     | 20kB 11.8MB/s eta 0:00:01\r\u001b[K     |███████████████▎                | 30kB 8.1MB/s eta 0:00:01\r\u001b[K     |████████████████████▍           | 40kB 6.7MB/s eta 0:00:01\r\u001b[K     |█████████████████████████▍      | 51kB 4.4MB/s eta 0:00:01\r\u001b[K     |██████████████████████████████▌ | 61kB 4.6MB/s eta 0:00:01\r\u001b[K     |████████████████████████████████| 71kB 3.0MB/s \n",
            "\u001b[?25hRequirement already satisfied: six in /usr/local/lib/python3.7/dist-packages (from chart-studio) (1.15.0)\n",
            "Requirement already satisfied: requests in /usr/local/lib/python3.7/dist-packages (from chart-studio) (2.23.0)\n",
            "Requirement already satisfied: plotly in /usr/local/lib/python3.7/dist-packages (from chart-studio) (4.4.1)\n",
            "Requirement already satisfied: retrying>=1.3.3 in /usr/local/lib/python3.7/dist-packages (from chart-studio) (1.3.3)\n",
            "Requirement already satisfied: idna<3,>=2.5 in /usr/local/lib/python3.7/dist-packages (from requests->chart-studio) (2.10)\n",
            "Requirement already satisfied: urllib3!=1.25.0,!=1.25.1,<1.26,>=1.21.1 in /usr/local/lib/python3.7/dist-packages (from requests->chart-studio) (1.24.3)\n",
            "Requirement already satisfied: certifi>=2017.4.17 in /usr/local/lib/python3.7/dist-packages (from requests->chart-studio) (2020.12.5)\n",
            "Requirement already satisfied: chardet<4,>=3.0.2 in /usr/local/lib/python3.7/dist-packages (from requests->chart-studio) (3.0.4)\n",
            "Installing collected packages: chart-studio\n",
            "Successfully installed chart-studio-1.1.0\n"
          ],
          "name": "stdout"
        }
      ]
    },
    {
      "cell_type": "code",
      "metadata": {
        "id": "dR_KszGZT1mg"
      },
      "source": [
        "#!pip install cufflinks"
      ],
      "execution_count": null,
      "outputs": []
    },
    {
      "cell_type": "code",
      "metadata": {
        "ExecuteTime": {
          "end_time": "2021-03-02T20:21:25.773008Z",
          "start_time": "2021-03-02T20:21:17.223979Z"
        },
        "id": "lCJImt_jN8Sd"
      },
      "source": [
        "#bibliotecas padrao\n",
        "import pandas as pd\n",
        "import numpy as np\n",
        "from scipy.stats import pearsonr, spearmanr\n",
        "\n",
        "#biblioteca para manipulacao de datas\n",
        "from astropy.time import Time\n",
        "\n",
        "#biblioteca para plot estatico\n",
        "import matplotlib.pyplot as plt\n",
        "import seaborn as sns\n",
        "#import matplotlib.ticker as mtick\n",
        "#from matplotlib.ticker import PercentFormatter\n",
        "\n",
        "#biblioteca para plot interativo\n",
        "#import chart_studio.plotly as py\n",
        "#import chart_studio.tools as tls\n",
        "#import plotly.graph_objects as go\n",
        "#import cufflinks as cf\n",
        "\n",
        "#biblioteca para pegar dados do Drive\n"
      ],
      "execution_count": null,
      "outputs": []
    },
    {
      "cell_type": "code",
      "metadata": {
        "ExecuteTime": {
          "end_time": "2021-03-02T20:21:35.232707Z",
          "start_time": "2021-03-02T20:21:35.223667Z"
        },
        "id": "2B3nfMpLSQ-N"
      },
      "source": [
        "%matplotlib inline\n",
        "plt.rcParams['figure.figsize'] = 17,6  #tamanho da figura de todos os plots"
      ],
      "execution_count": null,
      "outputs": []
    },
    {
      "cell_type": "code",
      "metadata": {
        "colab": {
          "base_uri": "https://localhost:8080/"
        },
        "id": "KBdR-Jo7-Fyd",
        "outputId": "60baa239-058a-4e99-e945-c122dfcfd62d"
      },
      "source": [
        "#from google.colab import drive\n",
        "#import os\n",
        "#drive.mount('/content/gdrive', force_remount = True)\n",
        "#path = '/content/gdrive/MyDrive/Colab Notebooks/OASIdata'\n",
        "#os.chdir(path)"
      ],
      "execution_count": null,
      "outputs": [
        {
          "output_type": "stream",
          "text": [
            "Mounted at /content/gdrive\n"
          ],
          "name": "stdout"
        }
      ]
    },
    {
      "cell_type": "code",
      "metadata": {
        "ExecuteTime": {
          "end_time": "2021-02-27T14:26:38.967998Z",
          "start_time": "2021-02-27T14:26:38.454545Z"
        },
        "id": "hHn_bexeSQ-O"
      },
      "source": [
        "#tls.set_credentials_file(username = 'taaaticorrea', api_key = 'cVyxkyjPvCNzCDggVzsn')"
      ],
      "execution_count": null,
      "outputs": []
    },
    {
      "cell_type": "markdown",
      "metadata": {
        "id": "-8sXBPt9a27N"
      },
      "source": [
        "# **INMT - FLORESTA A351 (2011-2019)**"
      ]
    },
    {
      "cell_type": "markdown",
      "metadata": {
        "id": "ySqcpcj76OIZ"
      },
      "source": [
        "## **TODAS**"
      ]
    },
    {
      "cell_type": "code",
      "metadata": {
        "ExecuteTime": {
          "end_time": "2021-03-02T20:21:46.774597Z",
          "start_time": "2021-03-02T20:21:46.107263Z"
        },
        "colab": {
          "base_uri": "https://localhost:8080/",
          "height": 206
        },
        "id": "HSovYWT7SQ-X",
        "outputId": "38971b7b-c5a2-41b7-d066-747b11b6822d"
      },
      "source": [
        "df = pd.read_csv('/content/dados_A351_D_2011-01-01_2019-12-31.csv',\n",
        "                 sep = ';', skiprows = 10)\n",
        "df.head()"
      ],
      "execution_count": null,
      "outputs": [
        {
          "output_type": "execute_result",
          "data": {
            "text/html": [
              "<div>\n",
              "<style scoped>\n",
              "    .dataframe tbody tr th:only-of-type {\n",
              "        vertical-align: middle;\n",
              "    }\n",
              "\n",
              "    .dataframe tbody tr th {\n",
              "        vertical-align: top;\n",
              "    }\n",
              "\n",
              "    .dataframe thead th {\n",
              "        text-align: right;\n",
              "    }\n",
              "</style>\n",
              "<table border=\"1\" class=\"dataframe\">\n",
              "  <thead>\n",
              "    <tr style=\"text-align: right;\">\n",
              "      <th></th>\n",
              "      <th>Data Medicao</th>\n",
              "      <th>PRECIPITACAO TOTAL, DIARIO (AUT)(mm)</th>\n",
              "      <th>UMIDADE RELATIVA DO AR, MEDIA DIARIA (AUT)(%)</th>\n",
              "      <th>Unnamed: 3</th>\n",
              "    </tr>\n",
              "  </thead>\n",
              "  <tbody>\n",
              "    <tr>\n",
              "      <th>0</th>\n",
              "      <td>2011-01-01</td>\n",
              "      <td>0</td>\n",
              "      <td>47,666667</td>\n",
              "      <td>NaN</td>\n",
              "    </tr>\n",
              "    <tr>\n",
              "      <th>1</th>\n",
              "      <td>2011-01-02</td>\n",
              "      <td>0</td>\n",
              "      <td>52,75</td>\n",
              "      <td>NaN</td>\n",
              "    </tr>\n",
              "    <tr>\n",
              "      <th>2</th>\n",
              "      <td>2011-01-03</td>\n",
              "      <td>11</td>\n",
              "      <td>68,833333</td>\n",
              "      <td>NaN</td>\n",
              "    </tr>\n",
              "    <tr>\n",
              "      <th>3</th>\n",
              "      <td>2011-01-04</td>\n",
              "      <td>0</td>\n",
              "      <td>58,166667</td>\n",
              "      <td>NaN</td>\n",
              "    </tr>\n",
              "    <tr>\n",
              "      <th>4</th>\n",
              "      <td>2011-01-05</td>\n",
              "      <td>0</td>\n",
              "      <td>51,75</td>\n",
              "      <td>NaN</td>\n",
              "    </tr>\n",
              "  </tbody>\n",
              "</table>\n",
              "</div>"
            ],
            "text/plain": [
              "  Data Medicao  ... Unnamed: 3\n",
              "0   2011-01-01  ...        NaN\n",
              "1   2011-01-02  ...        NaN\n",
              "2   2011-01-03  ...        NaN\n",
              "3   2011-01-04  ...        NaN\n",
              "4   2011-01-05  ...        NaN\n",
              "\n",
              "[5 rows x 4 columns]"
            ]
          },
          "metadata": {
            "tags": []
          },
          "execution_count": 36
        }
      ]
    },
    {
      "cell_type": "code",
      "metadata": {
        "ExecuteTime": {
          "end_time": "2021-03-02T20:21:46.845762Z",
          "start_time": "2021-03-02T20:21:46.783844Z"
        },
        "colab": {
          "base_uri": "https://localhost:8080/"
        },
        "id": "svX7_7gZSQ-Y",
        "scrolled": false,
        "outputId": "d0dc77a5-8f50-47a5-d19d-7961a8086c43"
      },
      "source": [
        "df.info()"
      ],
      "execution_count": null,
      "outputs": [
        {
          "output_type": "stream",
          "text": [
            "<class 'pandas.core.frame.DataFrame'>\n",
            "RangeIndex: 3287 entries, 0 to 3286\n",
            "Data columns (total 4 columns):\n",
            " #   Column                                         Non-Null Count  Dtype  \n",
            "---  ------                                         --------------  -----  \n",
            " 0   Data Medicao                                   3287 non-null   object \n",
            " 1   PRECIPITACAO TOTAL, DIARIO (AUT)(mm)           3142 non-null   object \n",
            " 2   UMIDADE RELATIVA DO AR, MEDIA DIARIA (AUT)(%)  3093 non-null   object \n",
            " 3   Unnamed: 3                                     0 non-null      float64\n",
            "dtypes: float64(1), object(3)\n",
            "memory usage: 102.8+ KB\n"
          ],
          "name": "stdout"
        }
      ]
    },
    {
      "cell_type": "code",
      "metadata": {
        "ExecuteTime": {
          "end_time": "2021-03-02T20:21:46.964808Z",
          "start_time": "2021-03-02T20:21:46.850022Z"
        },
        "id": "tjJMsPbcSQ-a"
      },
      "source": [
        "del df['Unnamed: 3']\n",
        "df.columns = ['Date','Rain','Hum']"
      ],
      "execution_count": null,
      "outputs": []
    },
    {
      "cell_type": "code",
      "metadata": {
        "ExecuteTime": {
          "end_time": "2021-03-02T20:21:47.315451Z",
          "start_time": "2021-03-02T20:21:46.968844Z"
        },
        "colab": {
          "base_uri": "https://localhost:8080/"
        },
        "id": "PrtPFTo4SQ-b",
        "outputId": "ba1f15ec-d766-4c69-e591-00abbbe41d24"
      },
      "source": [
        "df.dropna(inplace = True)\n",
        "df.info()"
      ],
      "execution_count": null,
      "outputs": [
        {
          "output_type": "stream",
          "text": [
            "<class 'pandas.core.frame.DataFrame'>\n",
            "Int64Index: 3063 entries, 0 to 3286\n",
            "Data columns (total 3 columns):\n",
            " #   Column  Non-Null Count  Dtype \n",
            "---  ------  --------------  ----- \n",
            " 0   Date    3063 non-null   object\n",
            " 1   Rain    3063 non-null   object\n",
            " 2   Hum     3063 non-null   object\n",
            "dtypes: object(3)\n",
            "memory usage: 95.7+ KB\n"
          ],
          "name": "stdout"
        }
      ]
    },
    {
      "cell_type": "code",
      "metadata": {
        "ExecuteTime": {
          "end_time": "2021-03-02T20:21:47.329905Z",
          "start_time": "2021-03-02T20:21:47.319883Z"
        },
        "id": "HeIasSgpSQ-e"
      },
      "source": [
        "df['Date'] = pd.to_datetime(df['Date'])\n",
        "#comentado para pegar os dados e salvar num arquivo com os dados do oasi\n",
        "#df['Date'] = Time(df['Date'], scale = 'utc', precision = 3)"
      ],
      "execution_count": null,
      "outputs": []
    },
    {
      "cell_type": "code",
      "metadata": {
        "ExecuteTime": {
          "end_time": "2021-03-02T20:21:47.416879Z",
          "start_time": "2021-03-02T20:21:47.332265Z"
        },
        "id": "UHkAR9-_SQ-e",
        "scrolled": true
      },
      "source": [
        "df['Rain'] = [i.replace(',', '.') for i in df['Rain']]\n",
        "df['Rain'] = df['Rain'].astype('float64')"
      ],
      "execution_count": null,
      "outputs": []
    },
    {
      "cell_type": "code",
      "metadata": {
        "ExecuteTime": {
          "end_time": "2021-03-02T20:21:47.489499Z",
          "start_time": "2021-03-02T20:21:47.421861Z"
        },
        "id": "ZdIKxc4aSQ-g"
      },
      "source": [
        "df['Hum'] = [i.replace(',', '.') for i in df['Hum']]\n",
        "df['Hum'] = df['Hum'].astype('float64')"
      ],
      "execution_count": null,
      "outputs": []
    },
    {
      "cell_type": "code",
      "metadata": {
        "ExecuteTime": {
          "end_time": "2021-03-02T20:21:47.562359Z",
          "start_time": "2021-03-02T20:21:47.492178Z"
        },
        "colab": {
          "base_uri": "https://localhost:8080/"
        },
        "id": "RBcHgWElSQ-g",
        "scrolled": false,
        "outputId": "f36ebf8f-0d19-4f81-a804-e3e55c69f038"
      },
      "source": [
        "df.info()"
      ],
      "execution_count": null,
      "outputs": [
        {
          "output_type": "stream",
          "text": [
            "<class 'pandas.core.frame.DataFrame'>\n",
            "Int64Index: 3063 entries, 0 to 3286\n",
            "Data columns (total 3 columns):\n",
            " #   Column  Non-Null Count  Dtype         \n",
            "---  ------  --------------  -----         \n",
            " 0   Date    3063 non-null   datetime64[ns]\n",
            " 1   Rain    3063 non-null   float64       \n",
            " 2   Hum     3063 non-null   float64       \n",
            "dtypes: datetime64[ns](1), float64(2)\n",
            "memory usage: 95.7 KB\n"
          ],
          "name": "stdout"
        }
      ]
    },
    {
      "cell_type": "code",
      "metadata": {
        "ExecuteTime": {
          "end_time": "2021-02-28T22:07:36.587957Z",
          "start_time": "2021-02-28T22:07:36.229158Z"
        },
        "id": "hbvcUYp-SQ-i"
      },
      "source": [
        "df_2011 = df.set_index('Date').filter(like = '2011', axis = 0).reset_index()\n",
        "df_2012 = df.set_index('Date').filter(like = '2012', axis = 0).reset_index()\n",
        "df_2013 = df.set_index('Date').filter(like = '2013', axis = 0).reset_index()\n",
        "df_2014 = df.set_index('Date').filter(like = '2014', axis = 0).reset_index()\n",
        "df_2015 = df.set_index('Date').filter(like = '2015', axis = 0).reset_index()\n",
        "df_2016 = df.set_index('Date').filter(like = '2016', axis = 0).reset_index()\n",
        "df_2017 = df.set_index('Date').filter(like = '2017', axis = 0).reset_index()\n",
        "df_2018 = df.set_index('Date').filter(like = '2018', axis = 0).reset_index()\n",
        "df_2019 = df.set_index('Date').filter(like = '2019', axis = 0).reset_index()"
      ],
      "execution_count": null,
      "outputs": []
    },
    {
      "cell_type": "code",
      "metadata": {
        "ExecuteTime": {
          "end_time": "2021-02-18T03:20:05.642929Z",
          "start_time": "2021-02-18T03:20:04.365421Z"
        },
        "id": "_JUab05PvQgE"
      },
      "source": [
        "### criando objeto datetime para cado ano individualmente\n",
        "\n",
        "#Inicio das observaçoes\n",
        "it    = '2011-01-01 00:00:00'\n",
        "#transformando em objeto Time do astropy\n",
        "itime = Time(it, format = 'iso', scale = 'utc', precision = 3 )\n",
        "\n",
        "#inicializando listas vazias\n",
        "dt_2011 = []\n",
        "dt_2012 = []\n",
        "dt_2013 = []\n",
        "dt_2014 = []\n",
        "dt_2015 = []\n",
        "dt_2016 = []\n",
        "dt_2017 = []\n",
        "dt_2018 = []\n",
        "dt_2019 = []\n",
        "\n",
        "dt_2011 = [ (i - itime)/365 for i in df_2011['Date']]\n",
        "dt_2012 = [ (i - itime)/365 for i in df_2012['Date']]\n",
        "dt_2013 = [ (i - itime)/365 for i in df_2013['Date']]\n",
        "dt_2014 = [ (i - itime)/365 for i in df_2014['Date']]\n",
        "dt_2015 = [ (i - itime)/365 for i in df_2015['Date']]\n",
        "dt_2016 = [ (i - itime)/365 for i in df_2016['Date']]\n",
        "dt_2017 = [ (i - itime)/365 for i in df_2017['Date']]\n",
        "dt_2018 = [ (i - itime)/365 for i in df_2018['Date']]\n",
        "dt_2019 = [ (i - itime)/365 for i in df_2019['Date']]"
      ],
      "execution_count": null,
      "outputs": []
    },
    {
      "cell_type": "code",
      "metadata": {
        "ExecuteTime": {
          "end_time": "2021-02-28T22:08:10.749279Z",
          "start_time": "2021-02-28T22:08:10.742088Z"
        },
        "id": "hs5P-2xls2Qk",
        "outputId": "41b07d43-829f-48cd-f847-e596b850b4dd"
      },
      "source": [
        "df_2011['Date'][0]"
      ],
      "execution_count": null,
      "outputs": [
        {
          "output_type": "execute_result",
          "data": {
            "text/plain": [
              "Timestamp('2011-01-01 00:00:00')"
            ]
          },
          "metadata": {
            "tags": []
          },
          "execution_count": 633
        }
      ]
    },
    {
      "cell_type": "code",
      "metadata": {
        "ExecuteTime": {
          "end_time": "2021-02-18T03:20:08.879572Z",
          "start_time": "2021-02-18T03:20:08.525800Z"
        },
        "id": "RpuxWqMWSQ-k"
      },
      "source": [
        "#transformando float object para fazer o plot\n",
        "dt_2011 = [dt_2011[i].value for i in range(len(dt_2011))]\n",
        "dt_2012 = [dt_2012[i].value for i in range(len(dt_2012))]\n",
        "dt_2013 = [dt_2013[i].value for i in range(len(dt_2013))]\n",
        "dt_2014 = [dt_2014[i].value for i in range(len(dt_2014))]\n",
        "dt_2015 = [dt_2015[i].value for i in range(len(dt_2015))]\n",
        "dt_2016 = [dt_2016[i].value for i in range(len(dt_2016))]\n",
        "dt_2017 = [dt_2017[i].value for i in range(len(dt_2017))]\n",
        "dt_2018 = [dt_2018[i].value for i in range(len(dt_2018))]\n",
        "dt_2019 = [dt_2019[i].value for i in range(len(dt_2019))]"
      ],
      "execution_count": null,
      "outputs": []
    },
    {
      "cell_type": "code",
      "metadata": {
        "ExecuteTime": {
          "end_time": "2021-02-18T03:22:07.458940Z",
          "start_time": "2021-02-18T03:22:03.473624Z"
        },
        "colab": {
          "base_uri": "https://localhost:8080/",
          "height": 360
        },
        "id": "TZQyCiKDh0KJ",
        "scrolled": false,
        "outputId": "d61bafe6-0eeb-4cbc-e87f-61277f6a05f5"
      },
      "source": [
        "plt.subplot(121)\n",
        "plt.scatter(dt_2011,df_2011['Rain'], label = 2011, color = 'navy')\n",
        "plt.scatter(dt_2012,df_2012['Rain'], label = 2012, color = 'navy')\n",
        "plt.scatter(dt_2013,df_2013['Rain'], label = 2013, color = 'navy')\n",
        "plt.scatter(dt_2014,df_2014['Rain'], label = 2014, color = 'navy')\n",
        "plt.scatter(dt_2015,df_2015['Rain'], label = 2015, color = 'blue')\n",
        "plt.scatter(dt_2016,df_2016['Rain'], label = 2016, color = 'darkcyan')\n",
        "plt.scatter(dt_2017,df_2017['Rain'], label = 2017, color = 'darkturquoise')\n",
        "plt.scatter(dt_2018,df_2018['Rain'], label = 2018, color = 'royalblue')\n",
        "plt.scatter(dt_2019,df_2019['Rain'], label = 2019, color = 'darkblue')\n",
        "plt.xlabel('Tempo de observação ' + '(início ' + str(df['Date'][0]) + ')' ,size = 13)\n",
        "plt.ylabel('PRECIPITACAO TOTAL (AUT) (mm)',size = 13)\n",
        "plt.xticks(np.arange(0,9,1),['2011','2012','2013','2014','2015','2016','2017','2018','2019'], rotation = 0, size = 13)\n",
        "plt.yticks(size = 13)\n",
        "plt.xlim(0,9)\n",
        "plt.ylim(bottom = 0)\n",
        "plt.grid(axis = 'x')\n",
        "plt.legend()\n",
        "plt.savefig('precipitacao_2011-2019.png')\n",
        "\n",
        "plt.subplot(122)\n",
        "plt.scatter(dt_2011,df_2011['Hum'], label = 2011, color = 'navy')\n",
        "plt.scatter(dt_2012,df_2012['Hum'], label = 2012, color = 'navy')\n",
        "plt.scatter(dt_2013,df_2013['Hum'], label = 2013, color = 'navy')\n",
        "plt.scatter(dt_2014,df_2014['Hum'], label = 2014, color = 'navy')\n",
        "plt.scatter(dt_2015,df_2015['Hum'], label = 2015, color = 'blue')\n",
        "plt.scatter(dt_2016,df_2016['Hum'], label = 2016, color = 'darkcyan')\n",
        "plt.scatter(dt_2017,df_2017['Hum'], label = 2017, color = 'darkturquoise')\n",
        "plt.scatter(dt_2018,df_2018['Hum'], label = 2018, color = 'royalblue')\n",
        "plt.scatter(dt_2019,df_2019['Hum'], label = 2019, color = 'darkblue')\n",
        "plt.gca().set_yticklabels(['{:.0f}%'.format(x) for x in plt.gca().get_yticks()])  #porcentagem\n",
        "plt.xlabel('Tempo de observação ' + '(início ' + str(df['Date'][0]) + ')', size = 13)\n",
        "plt.ylabel('UMIDADE RELATIVA DO AR (AUT)', size = 13)\n",
        "plt.xlim(0,9)\n",
        "plt.xticks(np.arange(0,9,1),['2011','2012','2013','2014','2015','2016','2017','2018','2019'], rotation = 0, size = 13)\n",
        "plt.yticks(size  = 13)\n",
        "plt.grid(axis = 'x')\n",
        "plt.legend()\n",
        "\n",
        "plt.suptitle('INMET - Floresta A351', size = 17)\n",
        "plt.savefig('umidade_2011-2019.png')\n",
        "\n",
        "\n",
        "\n",
        "plt.savefig('floresta_2011-2019.png')\n",
        "plt.show()"
      ],
      "execution_count": null,
      "outputs": [
        {
          "output_type": "stream",
          "text": [
            "<ipython-input-543-11975d2c3dcd>:31: UserWarning:\n",
            "\n",
            "FixedFormatter should only be used together with FixedLocator\n",
            "\n"
          ],
          "name": "stderr"
        },
        {
          "output_type": "display_data",
          "data": {
            "image/png": "[encoded data removed]",
            "text/plain": [
              "<Figure size 1224x432 with 2 Axes>"
            ]
          },
          "metadata": {
            "tags": [],
            "needs_background": "light"
          }
        }
      ]
    },
    {
      "cell_type": "markdown",
      "metadata": {
        "heading_collapsed": true,
        "id": "PLYaU5DkSQ-l"
      },
      "source": [
        "# **INMT - FLORESTA A351 (2011-2019) (PLOTLY)**"
      ]
    },
    {
      "cell_type": "markdown",
      "metadata": {
        "hidden": true,
        "id": "fWAkYJbPSQ-l"
      },
      "source": [
        "## **TODAS**"
      ]
    },
    {
      "cell_type": "code",
      "metadata": {
        "ExecuteTime": {
          "end_time": "2021-02-18T03:26:05.432668Z",
          "start_time": "2021-02-18T03:26:05.402157Z"
        },
        "hidden": true,
        "id": "IzGYQESFSQ-m",
        "outputId": "c9401b4b-9818-41b0-b1a9-32b3aec9e59e"
      },
      "source": [
        "df = pd.read_csv('dados-meteorologicos/diario/dados_A351_D_2011-01-01_2019-12-31.csv',\n",
        "                 sep = ';', skiprows = 10)\n",
        "df.head()"
      ],
      "execution_count": null,
      "outputs": [
        {
          "output_type": "execute_result",
          "data": {
            "text/html": [
              "<div>\n",
              "<style scoped>\n",
              "    .dataframe tbody tr th:only-of-type {\n",
              "        vertical-align: middle;\n",
              "    }\n",
              "\n",
              "    .dataframe tbody tr th {\n",
              "        vertical-align: top;\n",
              "    }\n",
              "\n",
              "    .dataframe thead th {\n",
              "        text-align: right;\n",
              "    }\n",
              "</style>\n",
              "<table border=\"1\" class=\"dataframe\">\n",
              "  <thead>\n",
              "    <tr style=\"text-align: right;\">\n",
              "      <th></th>\n",
              "      <th>Data Medicao</th>\n",
              "      <th>PRECIPITACAO TOTAL, DIARIO (AUT)(mm)</th>\n",
              "      <th>UMIDADE RELATIVA DO AR, MEDIA DIARIA (AUT)(%)</th>\n",
              "      <th>Unnamed: 3</th>\n",
              "    </tr>\n",
              "  </thead>\n",
              "  <tbody>\n",
              "    <tr>\n",
              "      <th>0</th>\n",
              "      <td>2011-01-01</td>\n",
              "      <td>0</td>\n",
              "      <td>47,666667</td>\n",
              "      <td>NaN</td>\n",
              "    </tr>\n",
              "    <tr>\n",
              "      <th>1</th>\n",
              "      <td>2011-01-02</td>\n",
              "      <td>0</td>\n",
              "      <td>52,75</td>\n",
              "      <td>NaN</td>\n",
              "    </tr>\n",
              "    <tr>\n",
              "      <th>2</th>\n",
              "      <td>2011-01-03</td>\n",
              "      <td>11</td>\n",
              "      <td>68,833333</td>\n",
              "      <td>NaN</td>\n",
              "    </tr>\n",
              "    <tr>\n",
              "      <th>3</th>\n",
              "      <td>2011-01-04</td>\n",
              "      <td>0</td>\n",
              "      <td>58,166667</td>\n",
              "      <td>NaN</td>\n",
              "    </tr>\n",
              "    <tr>\n",
              "      <th>4</th>\n",
              "      <td>2011-01-05</td>\n",
              "      <td>0</td>\n",
              "      <td>51,75</td>\n",
              "      <td>NaN</td>\n",
              "    </tr>\n",
              "  </tbody>\n",
              "</table>\n",
              "</div>"
            ],
            "text/plain": [
              "  Data Medicao PRECIPITACAO TOTAL, DIARIO (AUT)(mm)  \\\n",
              "0   2011-01-01                                    0   \n",
              "1   2011-01-02                                    0   \n",
              "2   2011-01-03                                   11   \n",
              "3   2011-01-04                                    0   \n",
              "4   2011-01-05                                    0   \n",
              "\n",
              "  UMIDADE RELATIVA DO AR, MEDIA DIARIA (AUT)(%)  Unnamed: 3  \n",
              "0                                     47,666667         NaN  \n",
              "1                                         52,75         NaN  \n",
              "2                                     68,833333         NaN  \n",
              "3                                     58,166667         NaN  \n",
              "4                                         51,75         NaN  "
            ]
          },
          "metadata": {
            "tags": []
          },
          "execution_count": 551
        }
      ]
    },
    {
      "cell_type": "code",
      "metadata": {
        "ExecuteTime": {
          "end_time": "2021-02-18T03:26:07.355632Z",
          "start_time": "2021-02-18T03:26:07.331813Z"
        },
        "hidden": true,
        "id": "UU3p3GH5SQ-n",
        "scrolled": false,
        "outputId": "dec7cb5e-c85f-48cf-d6b2-bf6a6bfbfeca"
      },
      "source": [
        "df.info()"
      ],
      "execution_count": null,
      "outputs": [
        {
          "output_type": "stream",
          "text": [
            "<class 'pandas.core.frame.DataFrame'>\n",
            "RangeIndex: 3287 entries, 0 to 3286\n",
            "Data columns (total 4 columns):\n",
            " #   Column                                         Non-Null Count  Dtype  \n",
            "---  ------                                         --------------  -----  \n",
            " 0   Data Medicao                                   3287 non-null   object \n",
            " 1   PRECIPITACAO TOTAL, DIARIO (AUT)(mm)           3142 non-null   object \n",
            " 2   UMIDADE RELATIVA DO AR, MEDIA DIARIA (AUT)(%)  3093 non-null   object \n",
            " 3   Unnamed: 3                                     0 non-null      float64\n",
            "dtypes: float64(1), object(3)\n",
            "memory usage: 102.8+ KB\n"
          ],
          "name": "stdout"
        }
      ]
    },
    {
      "cell_type": "code",
      "metadata": {
        "ExecuteTime": {
          "end_time": "2021-02-18T03:26:10.079506Z",
          "start_time": "2021-02-18T03:26:10.070472Z"
        },
        "hidden": true,
        "id": "qWB-wtE8SQ-n"
      },
      "source": [
        "del df['Unnamed: 3']\n",
        "df.columns = ['Date','Rain','Hum']"
      ],
      "execution_count": null,
      "outputs": []
    },
    {
      "cell_type": "code",
      "metadata": {
        "ExecuteTime": {
          "end_time": "2021-02-18T03:26:13.825529Z",
          "start_time": "2021-02-18T03:26:13.808390Z"
        },
        "hidden": true,
        "id": "ZghyOtiESQ-o",
        "outputId": "6611d080-cf3d-4882-e6c0-19f69ff2b381"
      },
      "source": [
        "df.dropna(inplace = True)\n",
        "df.info()"
      ],
      "execution_count": null,
      "outputs": [
        {
          "output_type": "stream",
          "text": [
            "<class 'pandas.core.frame.DataFrame'>\n",
            "Int64Index: 3063 entries, 0 to 3286\n",
            "Data columns (total 3 columns):\n",
            " #   Column  Non-Null Count  Dtype \n",
            "---  ------  --------------  ----- \n",
            " 0   Date    3063 non-null   object\n",
            " 1   Rain    3063 non-null   object\n",
            " 2   Hum     3063 non-null   object\n",
            "dtypes: object(3)\n",
            "memory usage: 95.7+ KB\n"
          ],
          "name": "stdout"
        }
      ]
    },
    {
      "cell_type": "code",
      "metadata": {
        "ExecuteTime": {
          "end_time": "2021-02-18T03:26:16.754302Z",
          "start_time": "2021-02-18T03:26:16.748721Z"
        },
        "hidden": true,
        "id": "1CEVFdV7SQ-p"
      },
      "source": [
        "df['Date'] = pd.to_datetime(df['Date'])"
      ],
      "execution_count": null,
      "outputs": []
    },
    {
      "cell_type": "code",
      "metadata": {
        "ExecuteTime": {
          "end_time": "2021-02-18T03:26:18.493930Z",
          "start_time": "2021-02-18T03:26:18.485931Z"
        },
        "hidden": true,
        "id": "mQi2N_2eSQ-q",
        "scrolled": true
      },
      "source": [
        "df['Rain'] = [i.replace(',', '.') for i in df['Rain']]\n",
        "df['Rain'] = df['Rain'].astype('float64')"
      ],
      "execution_count": null,
      "outputs": []
    },
    {
      "cell_type": "code",
      "metadata": {
        "ExecuteTime": {
          "end_time": "2021-02-18T03:26:27.207851Z",
          "start_time": "2021-02-18T03:26:27.189966Z"
        },
        "hidden": true,
        "id": "w46Ao4zuSQ-q"
      },
      "source": [
        "df['Hum'] = [i.replace(',', '.') for i in df['Hum']]\n",
        "df['Hum'] = df['Hum'].astype('float64')"
      ],
      "execution_count": null,
      "outputs": []
    },
    {
      "cell_type": "code",
      "metadata": {
        "ExecuteTime": {
          "end_time": "2021-02-18T03:26:34.686003Z",
          "start_time": "2021-02-18T03:26:34.669967Z"
        },
        "hidden": true,
        "id": "n4oox0XiSQ-q",
        "outputId": "e56b6b1a-89b5-4506-8832-2462706c805c"
      },
      "source": [
        "df.info()"
      ],
      "execution_count": null,
      "outputs": [
        {
          "output_type": "stream",
          "text": [
            "<class 'pandas.core.frame.DataFrame'>\n",
            "Int64Index: 3063 entries, 0 to 3286\n",
            "Data columns (total 3 columns):\n",
            " #   Column  Non-Null Count  Dtype         \n",
            "---  ------  --------------  -----         \n",
            " 0   Date    3063 non-null   datetime64[ns]\n",
            " 1   Rain    3063 non-null   float64       \n",
            " 2   Hum     3063 non-null   float64       \n",
            "dtypes: datetime64[ns](1), float64(2)\n",
            "memory usage: 95.7 KB\n"
          ],
          "name": "stdout"
        }
      ]
    },
    {
      "cell_type": "code",
      "metadata": {
        "ExecuteTime": {
          "end_time": "2021-02-18T03:26:41.190159Z",
          "start_time": "2021-02-18T03:26:41.175694Z"
        },
        "hidden": true,
        "id": "I7SzaBcASQ-s",
        "outputId": "975a6689-ce63-4753-ea22-4ef3a2575d7a"
      },
      "source": [
        "df.set_index('Date', inplace = True)\n",
        "df.head()"
      ],
      "execution_count": null,
      "outputs": [
        {
          "output_type": "execute_result",
          "data": {
            "text/html": [
              "<div>\n",
              "<style scoped>\n",
              "    .dataframe tbody tr th:only-of-type {\n",
              "        vertical-align: middle;\n",
              "    }\n",
              "\n",
              "    .dataframe tbody tr th {\n",
              "        vertical-align: top;\n",
              "    }\n",
              "\n",
              "    .dataframe thead th {\n",
              "        text-align: right;\n",
              "    }\n",
              "</style>\n",
              "<table border=\"1\" class=\"dataframe\">\n",
              "  <thead>\n",
              "    <tr style=\"text-align: right;\">\n",
              "      <th></th>\n",
              "      <th>Rain</th>\n",
              "      <th>Hum</th>\n",
              "    </tr>\n",
              "    <tr>\n",
              "      <th>Date</th>\n",
              "      <th></th>\n",
              "      <th></th>\n",
              "    </tr>\n",
              "  </thead>\n",
              "  <tbody>\n",
              "    <tr>\n",
              "      <th>2011-01-01</th>\n",
              "      <td>0.0</td>\n",
              "      <td>47.666667</td>\n",
              "    </tr>\n",
              "    <tr>\n",
              "      <th>2011-01-02</th>\n",
              "      <td>0.0</td>\n",
              "      <td>52.750000</td>\n",
              "    </tr>\n",
              "    <tr>\n",
              "      <th>2011-01-03</th>\n",
              "      <td>11.0</td>\n",
              "      <td>68.833333</td>\n",
              "    </tr>\n",
              "    <tr>\n",
              "      <th>2011-01-04</th>\n",
              "      <td>0.0</td>\n",
              "      <td>58.166667</td>\n",
              "    </tr>\n",
              "    <tr>\n",
              "      <th>2011-01-05</th>\n",
              "      <td>0.0</td>\n",
              "      <td>51.750000</td>\n",
              "    </tr>\n",
              "  </tbody>\n",
              "</table>\n",
              "</div>"
            ],
            "text/plain": [
              "            Rain        Hum\n",
              "Date                       \n",
              "2011-01-01   0.0  47.666667\n",
              "2011-01-02   0.0  52.750000\n",
              "2011-01-03  11.0  68.833333\n",
              "2011-01-04   0.0  58.166667\n",
              "2011-01-05   0.0  51.750000"
            ]
          },
          "metadata": {
            "tags": []
          },
          "execution_count": 559
        }
      ]
    },
    {
      "cell_type": "code",
      "metadata": {
        "ExecuteTime": {
          "end_time": "2021-02-18T03:35:08.877701Z",
          "start_time": "2021-02-18T03:35:03.332476Z"
        },
        "hidden": true,
        "id": "Arw7kNNtSQ-s",
        "scrolled": false,
        "outputId": "20953694-e30b-439c-b681-c99110fd2f75"
      },
      "source": [
        "df['Rain'].iplot(kind = 'scatter',\n",
        "                mode = 'markers',\n",
        "                title = 'INMET - Estação Floresta A351',\n",
        "                xTitle = 'Data da observação',\n",
        "                yTitle = 'Precipitação total (AUT) (mm)', )"
      ],
      "execution_count": null,
      "outputs": [
        {
          "output_type": "execute_result",
          "data": {
            "text/html": [
              "\n",
              "        <iframe\n",
              "            width=\"100%\"\n",
              "            height=\"525px\"\n",
              "            src=\"https://plotly.com/~taaaticorrea/129.embed\"\n",
              "            frameborder=\"0\"\n",
              "            allowfullscreen\n",
              "        ></iframe>\n",
              "        "
            ],
            "text/plain": [
              "<IPython.lib.display.IFrame at 0x7f815e9d1af0>"
            ]
          },
          "metadata": {
            "tags": []
          },
          "execution_count": 564
        }
      ]
    },
    {
      "cell_type": "code",
      "metadata": {
        "ExecuteTime": {
          "end_time": "2021-02-18T03:34:33.359288Z",
          "start_time": "2021-02-18T03:34:27.301821Z"
        },
        "hidden": true,
        "id": "YtRJGe11SQ-s",
        "outputId": "7cabe484-19ac-4294-c658-0a58f74b7abe"
      },
      "source": [
        "df['Hum'].iplot(kind = 'scatter',\n",
        "                mode = 'markers',\n",
        "                title = 'INMET - Estação Floresta A351',\n",
        "                xTitle = 'Data da observação',\n",
        "                yTitle = 'Umidade Relativa do Ar (AUT) %', )"
      ],
      "execution_count": null,
      "outputs": [
        {
          "output_type": "execute_result",
          "data": {
            "text/html": [
              "\n",
              "        <iframe\n",
              "            width=\"100%\"\n",
              "            height=\"525px\"\n",
              "            src=\"https://plotly.com/~taaaticorrea/129.embed\"\n",
              "            frameborder=\"0\"\n",
              "            allowfullscreen\n",
              "        ></iframe>\n",
              "        "
            ],
            "text/plain": [
              "<IPython.lib.display.IFrame at 0x7f815e5b7c10>"
            ]
          },
          "metadata": {
            "tags": []
          },
          "execution_count": 563
        }
      ]
    },
    {
      "cell_type": "code",
      "metadata": {
        "ExecuteTime": {
          "end_time": "2021-02-18T03:37:33.886484Z",
          "start_time": "2021-02-18T03:37:33.485504Z"
        },
        "hidden": true,
        "id": "LOREM76eSQ-s"
      },
      "source": [
        "df_2011 = df.filter(like = '2011', axis = 0)\n",
        "df_2012 = df.filter(like = '2012', axis = 0)\n",
        "df_2013 = df.filter(like = '2013', axis = 0)\n",
        "df_2014 = df.filter(like = '2014', axis = 0)\n",
        "df_2015 = df.filter(like = '2015', axis = 0)\n",
        "df_2016 = df.filter(like = '2016', axis = 0)\n",
        "df_2017 = df.filter(like = '2017', axis = 0)\n",
        "df_2018 = df.filter(like = '2018', axis = 0)\n",
        "df_2019 = df.filter(like = '2019', axis = 0)"
      ],
      "execution_count": null,
      "outputs": []
    },
    {
      "cell_type": "markdown",
      "metadata": {
        "id": "SAdOBP99cTlZ"
      },
      "source": [
        "# **Dados OASI**"
      ]
    },
    {
      "cell_type": "code",
      "metadata": {
        "ExecuteTime": {
          "end_time": "2021-03-02T20:22:05.663377Z",
          "start_time": "2021-03-02T20:22:04.952681Z"
        },
        "colab": {
          "base_uri": "https://localhost:8080/",
          "height": 414
        },
        "id": "Fk8mze1PP3j5",
        "outputId": "1b68dc79-4989-4f21-8b6f-0397d4a67e1f"
      },
      "source": [
        "#importando dados\n",
        "df_OASI = pd.read_csv('/content/Data_Todo.txt',delimiter = '\\t', skiprows = 1,\n",
        "                      usecols = ['Date','Unnamed: 1','Hum','Rain'])\n",
        "print(df_OASI.info())\n",
        "df_OASI.head()"
      ],
      "execution_count": null,
      "outputs": [
        {
          "output_type": "stream",
          "text": [
            "<class 'pandas.core.frame.DataFrame'>\n",
            "RangeIndex: 235640 entries, 0 to 235639\n",
            "Data columns (total 4 columns):\n",
            " #   Column      Non-Null Count   Dtype  \n",
            "---  ------      --------------   -----  \n",
            " 0   Date        235640 non-null  object \n",
            " 1   Unnamed: 1  235640 non-null  object \n",
            " 2   Hum         235640 non-null  object \n",
            " 3   Rain        235640 non-null  float64\n",
            "dtypes: float64(1), object(3)\n",
            "memory usage: 7.2+ MB\n",
            "None\n"
          ],
          "name": "stdout"
        },
        {
          "output_type": "execute_result",
          "data": {
            "text/html": [
              "<div>\n",
              "<style scoped>\n",
              "    .dataframe tbody tr th:only-of-type {\n",
              "        vertical-align: middle;\n",
              "    }\n",
              "\n",
              "    .dataframe tbody tr th {\n",
              "        vertical-align: top;\n",
              "    }\n",
              "\n",
              "    .dataframe thead th {\n",
              "        text-align: right;\n",
              "    }\n",
              "</style>\n",
              "<table border=\"1\" class=\"dataframe\">\n",
              "  <thead>\n",
              "    <tr style=\"text-align: right;\">\n",
              "      <th></th>\n",
              "      <th>Date</th>\n",
              "      <th>Unnamed: 1</th>\n",
              "      <th>Hum</th>\n",
              "      <th>Rain</th>\n",
              "    </tr>\n",
              "  </thead>\n",
              "  <tbody>\n",
              "    <tr>\n",
              "      <th>0</th>\n",
              "      <td>03/09/14</td>\n",
              "      <td>7:02</td>\n",
              "      <td>20.6</td>\n",
              "      <td>0.0</td>\n",
              "    </tr>\n",
              "    <tr>\n",
              "      <th>1</th>\n",
              "      <td>03/09/14</td>\n",
              "      <td>7:03</td>\n",
              "      <td>20.6</td>\n",
              "      <td>0.0</td>\n",
              "    </tr>\n",
              "    <tr>\n",
              "      <th>2</th>\n",
              "      <td>03/09/14</td>\n",
              "      <td>7:04</td>\n",
              "      <td>20.6</td>\n",
              "      <td>0.0</td>\n",
              "    </tr>\n",
              "    <tr>\n",
              "      <th>3</th>\n",
              "      <td>03/09/14</td>\n",
              "      <td>7:05</td>\n",
              "      <td>20.6</td>\n",
              "      <td>0.0</td>\n",
              "    </tr>\n",
              "    <tr>\n",
              "      <th>4</th>\n",
              "      <td>03/09/14</td>\n",
              "      <td>7:06</td>\n",
              "      <td>20.6</td>\n",
              "      <td>0.0</td>\n",
              "    </tr>\n",
              "  </tbody>\n",
              "</table>\n",
              "</div>"
            ],
            "text/plain": [
              "       Date Unnamed: 1   Hum  Rain\n",
              "0  03/09/14       7:02  20.6   0.0\n",
              "1  03/09/14       7:03  20.6   0.0\n",
              "2  03/09/14       7:04  20.6   0.0\n",
              "3  03/09/14       7:05  20.6   0.0\n",
              "4  03/09/14       7:06  20.6   0.0"
            ]
          },
          "metadata": {
            "tags": []
          },
          "execution_count": 45
        }
      ]
    },
    {
      "cell_type": "code",
      "metadata": {
        "ExecuteTime": {
          "end_time": "2021-03-02T20:22:06.586333Z",
          "start_time": "2021-03-02T20:22:05.667792Z"
        },
        "id": "1jXnK6fyhuMU"
      },
      "source": [
        "df_OASI.to_csv('dados_2014-2018_OASI')"
      ],
      "execution_count": null,
      "outputs": []
    },
    {
      "cell_type": "code",
      "metadata": {
        "ExecuteTime": {
          "end_time": "2021-03-02T20:22:06.685157Z",
          "start_time": "2021-03-02T20:22:06.588945Z"
        },
        "id": "jySl8NnDXnA0"
      },
      "source": [
        "# arrumando especificidades do arquivo\n",
        "df_OASI['Datetime'] = df_OASI['Date'] + ' ' + df_OASI['Unnamed: 1']\n",
        "del df_OASI['Unnamed: 1']\n",
        "del df_OASI['Date']"
      ],
      "execution_count": null,
      "outputs": []
    },
    {
      "cell_type": "code",
      "metadata": {
        "ExecuteTime": {
          "end_time": "2021-03-02T20:22:21.501903Z",
          "start_time": "2021-03-02T20:22:06.687680Z"
        },
        "id": "jdWxkffDYDVd",
        "scrolled": true
      },
      "source": [
        "#convertendo a data em um objeto datetime do pandas\n",
        "df_OASI['Datetime'] = pd.to_datetime(df_OASI['Datetime'], format = '%d/%m/%y %H:%M')\n",
        "\n",
        "#convertendo a data em um objeto datetime do astropy\n",
        "df_OASI['Datetime'] = Time(df_OASI['Datetime'], scale = 'utc')"
      ],
      "execution_count": null,
      "outputs": []
    },
    {
      "cell_type": "code",
      "metadata": {
        "ExecuteTime": {
          "end_time": "2021-03-02T20:22:21.743308Z",
          "start_time": "2021-03-02T20:22:21.503924Z"
        },
        "id": "h0MlnwfAksJM"
      },
      "source": [
        "#transformando valores de umidade em float\n",
        "#df_OASI['Hum'] = df_OASI['Hum'].astype('float64')\n",
        "\n",
        "#pegando apenas os valores de umidade diferentes de '---'\n",
        "df_OASI = df_OASI.loc[(df_OASI['Hum']) != '---', :]\n",
        "\n",
        "#transformando a coluna de humidade em float\n",
        "df_OASI.Hum = df_OASI.Hum.astype('float64')"
      ],
      "execution_count": null,
      "outputs": []
    },
    {
      "cell_type": "code",
      "metadata": {
        "ExecuteTime": {
          "end_time": "2021-03-02T20:22:22.084749Z",
          "start_time": "2021-03-02T20:22:21.745966Z"
        },
        "colab": {
          "base_uri": "https://localhost:8080/"
        },
        "id": "kEKZvIntSQ-w",
        "outputId": "88f963ee-b7e5-4a3e-deb1-de5ccbc7f985"
      },
      "source": [
        "df_OASI.info()"
      ],
      "execution_count": null,
      "outputs": [
        {
          "output_type": "stream",
          "text": [
            "<class 'pandas.core.frame.DataFrame'>\n",
            "Int64Index: 191622 entries, 0 to 235639\n",
            "Data columns (total 3 columns):\n",
            " #   Column    Non-Null Count   Dtype  \n",
            "---  ------    --------------   -----  \n",
            " 0   Hum       191622 non-null  float64\n",
            " 1   Rain      191622 non-null  float64\n",
            " 2   Datetime  191622 non-null  object \n",
            "dtypes: float64(2), object(1)\n",
            "memory usage: 5.8+ MB\n"
          ],
          "name": "stdout"
        }
      ]
    },
    {
      "cell_type": "markdown",
      "metadata": {
        "heading_collapsed": true,
        "id": "T5dahYGFSQ-z"
      },
      "source": [
        "## **TODAS**"
      ]
    },
    {
      "cell_type": "code",
      "metadata": {
        "ExecuteTime": {
          "end_time": "2021-03-01T20:44:31.191192Z",
          "start_time": "2021-03-01T20:44:01.059436Z"
        },
        "id": "UG-prlvFXpni"
      },
      "source": [
        "#filtrando dados por ano -- o método .filter() filtra por indice\n",
        "df_OASI_2014 = df_OASI.set_index('Datetime').filter(like='2014-',axis=0).reset_index()\n",
        "df_OASI_2015 = df_OASI.set_index('Datetime').filter(like='2015-',axis=0).reset_index()\n",
        "df_OASI_2016 = df_OASI.set_index('Datetime').filter(like='2016-',axis=0).reset_index()\n",
        "df_OASI_2017 = df_OASI.set_index('Datetime').filter(like='2017-',axis=0).reset_index()\n",
        "df_OASI_2018 = df_OASI.set_index('Datetime').filter(like='2018-',axis=0).reset_index()"
      ],
      "execution_count": null,
      "outputs": []
    },
    {
      "cell_type": "code",
      "metadata": {
        "ExecuteTime": {
          "end_time": "2021-03-01T20:44:50.451736Z",
          "start_time": "2021-03-01T20:44:31.195885Z"
        },
        "id": "tVRqzYb1SQ-x"
      },
      "source": [
        "### criando objeto datetime para cado ano individualmente\n",
        "\n",
        "#Inicio das observaçoes\n",
        "it    = '2014-01-01 00:00:00'\n",
        "#transformando em objeto Time do astropy\n",
        "itime = Time(it, format = 'iso', scale = 'utc' )\n",
        "\n",
        "#inicializando listas vazias\n",
        "dt_2014 = []\n",
        "dt_2015 = []\n",
        "dt_2016 = []\n",
        "dt_2017 = []\n",
        "dt_2018 = []\n",
        "\n",
        "dt_2014 = [ (i - itime)/365 for i in df_OASI_2014['Datetime']]\n",
        "dt_2015 = [ (i - itime)/365 for i in df_OASI_2015['Datetime']]\n",
        "dt_2016 = [ (i - itime)/365 for i in df_OASI_2016['Datetime']]\n",
        "dt_2017 = [ (i - itime)/365 for i in df_OASI_2017['Datetime']]\n",
        "dt_2018 = [ (i - itime)/365 for i in df_OASI_2018['Datetime']]"
      ],
      "execution_count": null,
      "outputs": []
    },
    {
      "cell_type": "code",
      "metadata": {
        "ExecuteTime": {
          "end_time": "2021-03-01T20:44:50.459468Z",
          "start_time": "2021-03-01T20:43:45.690Z"
        },
        "id": "jxDsSfsVSQ-y"
      },
      "source": [
        "dt_2014[0]"
      ],
      "execution_count": null,
      "outputs": []
    },
    {
      "cell_type": "code",
      "metadata": {
        "ExecuteTime": {
          "end_time": "2021-03-01T20:44:50.460675Z",
          "start_time": "2021-03-01T20:43:45.700Z"
        },
        "id": "5m50KrLQSQ-y"
      },
      "source": [
        "#transformando float object para fazer o plot\n",
        "dt_2014 = [dt_2014[i].value for i in range(len(dt_2014))]\n",
        "dt_2015 = [dt_2015[i].value for i in range(len(dt_2015))]\n",
        "dt_2016 = [dt_2016[i].value for i in range(len(dt_2016))]\n",
        "dt_2017 = [dt_2017[i].value for i in range(len(dt_2017))]\n",
        "dt_2018 = [dt_2018[i].value for i in range(len(dt_2018))]"
      ],
      "execution_count": null,
      "outputs": []
    },
    {
      "cell_type": "code",
      "metadata": {
        "ExecuteTime": {
          "end_time": "2021-03-01T20:44:50.461648Z",
          "start_time": "2021-03-01T20:43:45.707Z"
        },
        "id": "9pibqk5bSQ-y"
      },
      "source": [
        "dt_2014[0]"
      ],
      "execution_count": null,
      "outputs": []
    },
    {
      "cell_type": "code",
      "metadata": {
        "ExecuteTime": {
          "end_time": "2021-03-01T20:44:50.463256Z",
          "start_time": "2021-03-01T20:43:45.867Z"
        },
        "hidden": true,
        "id": "_WEIt999SQ-z",
        "scrolled": false
      },
      "source": [
        "plt.subplot(121)\n",
        "plt.scatter(dt_2014,df_OASI_2014['Rain'], label = 2014, color = 'navy')\n",
        "plt.scatter(dt_2015,df_OASI_2015['Rain'], label = 2015, color = 'blue')\n",
        "plt.scatter(dt_2016,df_OASI_2016['Rain'], label = 2016, color = 'darkcyan')\n",
        "plt.scatter(dt_2017,df_OASI_2017['Rain'], label = 2017, color = 'darkturquoise')\n",
        "plt.scatter(dt_2018,df_OASI_2018['Rain'], label = 2018, color = 'royalblue')\n",
        "plt.title(r'Precipitação', size = 13)\n",
        "plt.xlabel('Tempo de observação ' + '(início ' + str(df_OASI['Datetime'][0]) + ')' ,size = 13)\n",
        "plt.ylabel('PRECIPITACAO TOTAL (AUT) (mm)',size = 13)\n",
        "plt.xticks(np.arange(0,6),['2014','2015','2016','2017','2018','2019'], rotation = 0, size = 13)\n",
        "plt.yticks(size = 13)\n",
        "plt.xlim(0,5)\n",
        "plt.ylim(bottom = 0)\n",
        "plt.grid(axis = 'x')\n",
        "plt.legend()\n",
        "plt.savefig('precipitacao_2014-2018_OASI.png')\n",
        "\n",
        "plt.subplot(122)\n",
        "plt.scatter(dt_2014,df_OASI_2014['Hum'], label = 2014, color = 'navy')\n",
        "plt.scatter(dt_2015,df_OASI_2015['Hum'], label = 2015, color = 'blue')\n",
        "plt.scatter(dt_2016,df_OASI_2016['Hum'], label = 2016, color = 'darkcyan')\n",
        "plt.scatter(dt_2017,df_OASI_2017['Hum'], label = 2017, color = 'darkturquoise')\n",
        "plt.scatter(dt_2018,df_OASI_2018['Hum'], label = 2018, color = 'royalblue')\n",
        "#plt.gca().set_yticklabels(['{:.0f}%'.format(x) for x in plt.gca().get_yticks()])  #porcentagem\n",
        "plt.title(r'Umidade relativa', size = 13)\n",
        "plt.xlabel('Tempo de observação ' + '(início ' + str(df_OASI['Datetime'][0]) + ')', size = 13)\n",
        "plt.ylabel('UMIDADE RELATIVA DO AR (AUT)', size = 13)\n",
        "plt.xlim(0,5)\n",
        "plt.xticks(np.arange(0,6,1),['2014','2015','2016','2017','2018','2019'], rotation = 0, size = 13)\n",
        "plt.yticks(size  = 13)\n",
        "plt.grid(axis = 'x')\n",
        "plt.legend()\n",
        "\n",
        "plt.suptitle('OASI', size = 17)\n",
        "plt.savefig('umidade_2014-2018_OASI.png')\n",
        "\n",
        "plt.show()"
      ],
      "execution_count": null,
      "outputs": []
    },
    {
      "cell_type": "markdown",
      "metadata": {
        "heading_collapsed": true,
        "id": "B4T9efZgSQ-0"
      },
      "source": [
        "## **INDIVIDUAL**"
      ]
    },
    {
      "cell_type": "markdown",
      "metadata": {
        "hidden": true,
        "id": "_ZgcxOAMvTtG"
      },
      "source": [
        "### **2014**"
      ]
    },
    {
      "cell_type": "code",
      "metadata": {
        "ExecuteTime": {
          "end_time": "2021-03-01T20:44:50.464372Z",
          "start_time": "2021-03-01T20:43:46.138Z"
        },
        "hidden": true,
        "id": "73FG8hxVw6lQ"
      },
      "source": [
        "#tempos para plotar apenas o ano de 2014\n",
        "dt_2014 = [dt_2014[i]*365/30 for i in range(len(dt_2014))]"
      ],
      "execution_count": null,
      "outputs": []
    },
    {
      "cell_type": "code",
      "metadata": {
        "ExecuteTime": {
          "end_time": "2021-03-01T20:44:50.466038Z",
          "start_time": "2021-03-01T20:43:46.142Z"
        },
        "hidden": true,
        "id": "6iTl8czNvEbH"
      },
      "source": [
        "plt.subplot(121)\n",
        "plt.scatter(dt_2014,df_OASI_2014['Rain'], label = '2014', color = 'navy')\n",
        "plt.xlabel('Tempo de observação ' + '(início ' + str(df_OASI_2014['Datetime'][0]) + ')', size = 13)\n",
        "plt.ylabel('PRECIPITACAO TOTAL (AUT) (mm)',size=13)\n",
        "plt.ylim(bottom = 0, top = 120)\n",
        "plt.xlim(-1,11)\n",
        "plt.xticks(np.arange(-1,11),('Jan','Fev','Mar','Abr','Mai','Jun','Jul','Ago','Set','Out','Nov','Dez'), rotation = 0, size = 13)\n",
        "plt.yticks(size = 13)\n",
        "plt.grid(axis = 'x')\n",
        "plt.legend()\n",
        "plt.savefig('precipitacao_OASI-2014.png')\n",
        "\n",
        "plt.subplot(122)\n",
        "plt.scatter(dt_2014,df_OASI_2014['Hum'], label = '2014', color = 'navy')\n",
        "plt.xlabel('Tempo de observação ' + '(início ' + str(df_OASI_2014['Datetime'][0]) + ')',size = 13)\n",
        "plt.ylabel('UMIDADE',size=13)\n",
        "#plt.ylim(bottom = 0, top = 120)\n",
        "plt.xlim(-1,11)\n",
        "plt.xticks(np.arange(-1,11),('Jan','Fev','Mar','Abr','Mai','Jun','Jul','Ago','Set','Out','Nov','Dez'), rotation = 0, size = 13)\n",
        "plt.grid(axis = 'x')\n",
        "plt.legend()\n",
        "\n",
        "plt.suptitle('OASI - 2014', size = 17)\n",
        "plt.savefig('umidade_OASI-2014.png')\n",
        "\n",
        "\n",
        "plt.savefig('OASI-2014.png')\n",
        "plt.show"
      ],
      "execution_count": null,
      "outputs": []
    },
    {
      "cell_type": "code",
      "metadata": {
        "hidden": true,
        "id": "wEBvtVJ4s2Q4"
      },
      "source": [],
      "execution_count": null,
      "outputs": []
    },
    {
      "cell_type": "code",
      "metadata": {
        "ExecuteTime": {
          "end_time": "2021-03-01T20:44:50.468949Z",
          "start_time": "2021-03-01T20:43:46.152Z"
        },
        "hidden": true,
        "id": "a06gRym19UfB"
      },
      "source": [
        "#inicializando listas\n",
        "dt_2015 = []\n",
        "dt_2016 = []\n",
        "dt_2017 = []\n",
        "dt_2018 = []\n",
        "\n",
        "#Inicio das observaçoes\n",
        "it = '2015-01-01 00:00:00'\n",
        "itime = Time(it, format = 'iso', scale = 'utc' )\n",
        "dt_2015 = [ (i - itime)/30 for i in df_OASI_2015['Datetime']]\n",
        "\n",
        "#Inicio das observaçoes\n",
        "it = '2016-01-01 00:00:00'\n",
        "itime = Time(it, format = 'iso', scale = 'utc' )\n",
        "dt_2016 = [ (i - itime)/30 for i in df_OASI_2016['Datetime']]\n",
        "\n",
        "#Inicio das observaçoes\n",
        "it = '2017-01-01 00:00:00'\n",
        "itime = Time(it, format = 'iso', scale = 'utc' )\n",
        "dt_2017 = [ (i - itime)/30 for i in df_OASI_2017['Datetime']]\n",
        "\n",
        "#Inicio das observaçoes\n",
        "it = '2018-01-01 00:00:00'\n",
        "itime = Time(it, format = 'iso', scale = 'utc' )\n",
        "dt_2018 = [ (i - itime)/30 for i in df_OASI_2018['Datetime']]\n",
        "\n",
        "\n",
        "dt_2015 = [dt_2015[i].value for i in range(len(dt_2015))]\n",
        "dt_2016 = [dt_2016[i].value for i in range(len(dt_2016))]\n",
        "dt_2017 = [dt_2017[i].value for i in range(len(dt_2017))]\n",
        "dt_2018 = [dt_2018[i].value for i in range(len(dt_2018))]"
      ],
      "execution_count": null,
      "outputs": []
    },
    {
      "cell_type": "markdown",
      "metadata": {
        "hidden": true,
        "id": "3CYpSvC9jS0x"
      },
      "source": [
        "### **2015**"
      ]
    },
    {
      "cell_type": "code",
      "metadata": {
        "ExecuteTime": {
          "end_time": "2021-03-01T20:44:50.471505Z",
          "start_time": "2021-03-01T20:43:46.281Z"
        },
        "hidden": true,
        "id": "KM5AKNDPjS1P"
      },
      "source": [
        "plt.subplot(121)\n",
        "plt.scatter(dt_2015,df_OASI_2015['Rain'], label = '2015', color = 'blue')\n",
        "plt.xlabel('Tempo de observação ' + '(início ' + str(df_OASI_2015['Datetime'][0]) + ')',size = 13)\n",
        "plt.ylabel('PRECIPITACAO TOTAL (AUT) (mm)',size=13)\n",
        "plt.ylim(bottom = 0, top = 5)\n",
        "plt.xlim(-1,11)\n",
        "plt.xticks(np.arange(-1,11),('Jan','Fev','Mar','Abr','Mai','Jun','Jul','Ago','Set','Out','Nov','Dez'), rotation = 0, size = 13)\n",
        "plt.yticks(size = 13)\n",
        "plt.grid(axis = 'x')\n",
        "plt.legend()\n",
        "plt.savefig('precipitacao_OASI-2015.png')\n",
        "\n",
        "\n",
        "plt.subplot(122)\n",
        "plt.scatter(dt_2015,df_OASI_2015['Hum'], label = '2015', color = 'blue')\n",
        "plt.xlabel('Tempo de observação ' + '(início ' + str(df_OASI_2015['Datetime'][0]) + ')',size = 13)\n",
        "plt.ylabel('UMIDADE',size = 13)\n",
        "#plt.ylim(bottom = 0, top = 120)\n",
        "plt.xlim(-1,11)\n",
        "plt.xticks(np.arange(-1,11),('Jan','Fev','Mar','Abr','Mai','Jun','Jul','Ago','Set','Out','Nov','Dez'), rotation = 0, size = 13)\n",
        "plt.yticks(size = 13)\n",
        "plt.grid(axis = 'x')\n",
        "plt.legend()\n",
        "\n",
        "\n",
        "plt.suptitle('OASI', size = 17)\n",
        "plt.savefig('umidade_OASI-2015.png')\n",
        "\n",
        "plt.savefig('OASI-2015.png')\n",
        "plt.show"
      ],
      "execution_count": null,
      "outputs": []
    },
    {
      "cell_type": "markdown",
      "metadata": {
        "hidden": true,
        "id": "pdvDoqqxjSqB"
      },
      "source": [
        "### **2016**"
      ]
    },
    {
      "cell_type": "code",
      "metadata": {
        "ExecuteTime": {
          "end_time": "2021-03-01T20:44:50.473313Z",
          "start_time": "2021-03-01T20:43:46.419Z"
        },
        "hidden": true,
        "id": "Eypf5dfWjSq5"
      },
      "source": [
        "plt.subplot(121)\n",
        "plt.scatter(dt_2016,df_OASI_2016['Rain'], label = '2016', color = 'darkcyan')\n",
        "plt.xlabel('Tempo de observação ' + '(início ' + str(df_OASI_2016['Datetime'][0]) + ')',size = 13)\n",
        "plt.ylabel('PRECIPITACAO TOTAL (AUT) (mm)',size=13)\n",
        "plt.ylim(0)\n",
        "plt.xlim(-1,11)\n",
        "plt.xticks(np.arange(-1,11),('Jan','Fev','Mar','Abr','Mai','Jun','Jul','Ago','Set','Out','Nov','Dez'), rotation = 0, size = 13)\n",
        "plt.yticks(size = 13)\n",
        "plt.grid(axis = 'x')\n",
        "plt.legend()\n",
        "plt.savefig('precipitacao_OASI-2016.png')\n",
        "\n",
        "\n",
        "plt.subplot(122)\n",
        "plt.scatter(dt_2016,df_OASI_2016['Hum'], label = '2016', color = 'darkcyan')\n",
        "plt.xlabel('Tempo de observação ' + '(início ' + str(df_OASI_2016['Datetime'][0]) + ')',size = 13)\n",
        "plt.ylabel('UMIDADE',size=13)\n",
        "#plt.ylim(bottom = 0, top = 120)\n",
        "plt.xlim(-1,11)\n",
        "plt.xticks(np.arange(-1,11),('Jan','Fev','Mar','Abr','Mai','Jun','Jul','Ago','Set','Out','Nov','Dez'), rotation = 0, size = 13)\n",
        "plt.yticks(size = 13)\n",
        "plt.grid(axis = 'x')\n",
        "plt.legend()\n",
        "plt.savefig('umidade_OASI-2016.png')\n",
        "\n",
        "plt.suptitle('OASI - 2016', size = 17)\n",
        "\n",
        "plt.savefig('OASI-2016.png')\n",
        "plt.show"
      ],
      "execution_count": null,
      "outputs": []
    },
    {
      "cell_type": "markdown",
      "metadata": {
        "hidden": true,
        "id": "8uyYAE41jVAL"
      },
      "source": [
        "### **2017**"
      ]
    },
    {
      "cell_type": "code",
      "metadata": {
        "ExecuteTime": {
          "end_time": "2021-03-01T20:44:50.474507Z",
          "start_time": "2021-03-01T20:43:46.551Z"
        },
        "hidden": true,
        "id": "hSgt7aRpjVBX"
      },
      "source": [
        "plt.subplot(121)\n",
        "plt.scatter(dt_2017,df_OASI_2017['Rain'], label = '2017', color = 'darkturquoise')\n",
        "plt.xlabel('Tempo de observação ' + '(início ' + str(df_OASI_2017['Datetime'][0]) + ')', size = 13)\n",
        "plt.ylabel('PRECIPITACAO TOTAL (AUT) (mm)',size=13)\n",
        "plt.ylim(bottom = 0, top = 1)\n",
        "plt.xlim(-1,11)\n",
        "plt.xticks(np.arange(-1,11),('Jan','Fev','Mar','Abr','Mai','Jun','Jul','Ago','Set','Out','Nov','Dez'), rotation = 0, size = 13)\n",
        "plt.yticks(size = 13)\n",
        "plt.grid(axis = 'x')\n",
        "plt.legend()\n",
        "plt.savefig('precipitacao_OASI-2017.png')\n",
        "\n",
        "\n",
        "plt.subplot(122)\n",
        "plt.scatter(dt_2017,df_OASI_2017['Hum'], label = '2017', color = 'darkturquoise')\n",
        "plt.xlabel('Tempo de observação ' + '(início ' + str(df_OASI_2017['Datetime'][0]) + ')',size = 13)\n",
        "plt.ylabel('UMIDADE',size=13)\n",
        "#plt.ylim(bottom = 0, top = 120)\n",
        "plt.xlim(-1,11)\n",
        "plt.xticks(np.arange(-1,11),('Jan','Fev','Mar','Abr','Mai','Jun','Jul','Ago','Set','Out','Nov','Dez'), rotation = 0, size = 13)\n",
        "plt.yticks(size = 13)\n",
        "plt.grid(axis = 'x')lecyccs@hotmail.com\n",
        "plt.legend()\n",
        "plt.savefig('umidade_OASI-2017.png')\n",
        "\n",
        "\n",
        "plt.suptitle('OASI - 2017', size = 17)\n",
        "\n",
        "plt.savefig('OASI-2017.png')\n",
        "plt.show"
      ],
      "execution_count": null,
      "outputs": []
    },
    {
      "cell_type": "markdown",
      "metadata": {
        "hidden": true,
        "id": "Xf6voc-1jVmD"
      },
      "source": [
        "### **2018**"
      ]
    },
    {
      "cell_type": "code",
      "metadata": {
        "ExecuteTime": {
          "end_time": "2021-03-01T20:44:50.476061Z",
          "start_time": "2021-03-01T20:43:46.685Z"
        },
        "hidden": true,
        "id": "bJqOYKXD2vfV"
      },
      "source": [
        "plt.subplot(121)\n",
        "plt.scatter(dt_2018,df_OASI_2018['Hum'], label = '2018', color = 'royalblue')\n",
        "plt.xlabel('Tempo de observação ' + '(início ' + str(df_OASI_2018['Datetime'][0]) + ')',size = 13)\n",
        "plt.ylabel('UMIDADE',size=13)\n",
        "#plt.ylim(bottom = 0, top = 120)\n",
        "plt.xlim(-1,11)\n",
        "plt.xticks(np.arange(-1,11),('Jan','Fev','Mar','Abr','Mai','Jun','Jul','Ago','Set','Out','Nov','Dez'), rotation = 0, size = 13)\n",
        "plt.yticks(size = 13)\n",
        "plt.grid(axis = 'x')\n",
        "plt.legend()\n",
        "plt.savefig('umidade_OASI-2018.png')\n",
        "\n",
        "plt.subplot(122)\n",
        "plt.scatter(dt_2018,df_OASI_2018['Rain'], label = '2018', color = 'royalblue')\n",
        "plt.xlabel('Tempo de observação ' + '(início ' + str(df_OASI_2018['Datetime'][0]) + ')',size = 13)\n",
        "plt.ylabel('PRECIPITACAO TOTAL (AUT) (mm)',size=13)\n",
        "plt.ylim(bottom = 0, top = 30)\n",
        "plt.xlim(-1,11)\n",
        "plt.xticks(np.arange(-1,11),('Jan','Fev','Mar','Abr','Mai','Jun','Jul','Ago','Set','Out','Nov','Dez'), rotation = 0, size = 13)\n",
        "plt.yticks(size = 13)\n",
        "plt.grid(axis = 'x')\n",
        "plt.legend()\n",
        "plt.savefig('precipitacao_OASI-2018.png')\n",
        "\n",
        "plt.suptitle('OASI - 2018', size = 17)\n",
        "\n",
        "plt.savefig('OASI-2018.png')\n",
        "plt.show"
      ],
      "execution_count": null,
      "outputs": []
    },
    {
      "cell_type": "markdown",
      "metadata": {
        "id": "kMrw6mG82vex"
      },
      "source": [
        "## **MÉDIA DIÁRIA**"
      ]
    },
    {
      "cell_type": "code",
      "metadata": {
        "ExecuteTime": {
          "end_time": "2021-03-02T20:22:55.916954Z",
          "start_time": "2021-03-02T20:22:55.894911Z"
        },
        "colab": {
          "base_uri": "https://localhost:8080/",
          "height": 424
        },
        "id": "-g3qA31DDpZL",
        "outputId": "63a30bf9-565a-4413-8fb7-0aade14adce2"
      },
      "source": [
        "df_OASI"
      ],
      "execution_count": null,
      "outputs": [
        {
          "output_type": "execute_result",
          "data": {
            "text/html": [
              "<div>\n",
              "<style scoped>\n",
              "    .dataframe tbody tr th:only-of-type {\n",
              "        vertical-align: middle;\n",
              "    }\n",
              "\n",
              "    .dataframe tbody tr th {\n",
              "        vertical-align: top;\n",
              "    }\n",
              "\n",
              "    .dataframe thead th {\n",
              "        text-align: right;\n",
              "    }\n",
              "</style>\n",
              "<table border=\"1\" class=\"dataframe\">\n",
              "  <thead>\n",
              "    <tr style=\"text-align: right;\">\n",
              "      <th></th>\n",
              "      <th>Hum</th>\n",
              "      <th>Rain</th>\n",
              "      <th>Datetime</th>\n",
              "    </tr>\n",
              "  </thead>\n",
              "  <tbody>\n",
              "    <tr>\n",
              "      <th>0</th>\n",
              "      <td>20.6</td>\n",
              "      <td>0.0</td>\n",
              "      <td>2014-09-03T07:02:00.000000000</td>\n",
              "    </tr>\n",
              "    <tr>\n",
              "      <th>1</th>\n",
              "      <td>20.6</td>\n",
              "      <td>0.0</td>\n",
              "      <td>2014-09-03T07:03:00.000000000</td>\n",
              "    </tr>\n",
              "    <tr>\n",
              "      <th>2</th>\n",
              "      <td>20.6</td>\n",
              "      <td>0.0</td>\n",
              "      <td>2014-09-03T07:04:00.000000000</td>\n",
              "    </tr>\n",
              "    <tr>\n",
              "      <th>3</th>\n",
              "      <td>20.6</td>\n",
              "      <td>0.0</td>\n",
              "      <td>2014-09-03T07:05:00.000000000</td>\n",
              "    </tr>\n",
              "    <tr>\n",
              "      <th>4</th>\n",
              "      <td>20.6</td>\n",
              "      <td>0.0</td>\n",
              "      <td>2014-09-03T07:06:00.000000000</td>\n",
              "    </tr>\n",
              "    <tr>\n",
              "      <th>...</th>\n",
              "      <td>...</td>\n",
              "      <td>...</td>\n",
              "      <td>...</td>\n",
              "    </tr>\n",
              "    <tr>\n",
              "      <th>235635</th>\n",
              "      <td>20.8</td>\n",
              "      <td>0.0</td>\n",
              "      <td>2018-12-06T22:21:00.000000000</td>\n",
              "    </tr>\n",
              "    <tr>\n",
              "      <th>235636</th>\n",
              "      <td>20.8</td>\n",
              "      <td>0.0</td>\n",
              "      <td>2018-12-06T22:22:00.000000000</td>\n",
              "    </tr>\n",
              "    <tr>\n",
              "      <th>235637</th>\n",
              "      <td>20.8</td>\n",
              "      <td>0.0</td>\n",
              "      <td>2018-12-06T22:23:00.000000000</td>\n",
              "    </tr>\n",
              "    <tr>\n",
              "      <th>235638</th>\n",
              "      <td>20.8</td>\n",
              "      <td>0.0</td>\n",
              "      <td>2018-12-06T22:24:00.000000000</td>\n",
              "    </tr>\n",
              "    <tr>\n",
              "      <th>235639</th>\n",
              "      <td>20.8</td>\n",
              "      <td>0.0</td>\n",
              "      <td>2018-12-06T22:25:00.000000000</td>\n",
              "    </tr>\n",
              "  </tbody>\n",
              "</table>\n",
              "<p>191622 rows × 3 columns</p>\n",
              "</div>"
            ],
            "text/plain": [
              "         Hum  Rain                       Datetime\n",
              "0       20.6   0.0  2014-09-03T07:02:00.000000000\n",
              "1       20.6   0.0  2014-09-03T07:03:00.000000000\n",
              "2       20.6   0.0  2014-09-03T07:04:00.000000000\n",
              "3       20.6   0.0  2014-09-03T07:05:00.000000000\n",
              "4       20.6   0.0  2014-09-03T07:06:00.000000000\n",
              "...      ...   ...                            ...\n",
              "235635  20.8   0.0  2018-12-06T22:21:00.000000000\n",
              "235636  20.8   0.0  2018-12-06T22:22:00.000000000\n",
              "235637  20.8   0.0  2018-12-06T22:23:00.000000000\n",
              "235638  20.8   0.0  2018-12-06T22:24:00.000000000\n",
              "235639  20.8   0.0  2018-12-06T22:25:00.000000000\n",
              "\n",
              "[191622 rows x 3 columns]"
            ]
          },
          "metadata": {
            "tags": []
          },
          "execution_count": 52
        }
      ]
    },
    {
      "cell_type": "code",
      "metadata": {
        "ExecuteTime": {
          "end_time": "2021-03-02T20:22:56.091784Z",
          "start_time": "2021-03-02T20:22:55.920524Z"
        },
        "colab": {
          "base_uri": "https://localhost:8080/"
        },
        "id": "RDHGEBB0SQ-9",
        "outputId": "85e2fe21-f059-4692-9a10-4dc481fbf557"
      },
      "source": [
        "df_OASI['Datetime'][0]"
      ],
      "execution_count": null,
      "outputs": [
        {
          "output_type": "execute_result",
          "data": {
            "text/plain": [
              "<Time object: scale='utc' format='datetime64' value=2014-09-03T07:02:00.000000000>"
            ]
          },
          "metadata": {
            "tags": []
          },
          "execution_count": 53
        }
      ]
    },
    {
      "cell_type": "code",
      "metadata": {
        "ExecuteTime": {
          "end_time": "2021-03-02T20:23:27.254603Z",
          "start_time": "2021-03-02T20:22:56.095385Z"
        },
        "colab": {
          "base_uri": "https://localhost:8080/"
        },
        "id": "B7aaDw5d2vfG",
        "outputId": "d8e960ce-f7f9-4622-a0b0-f0d38f926b92"
      },
      "source": [
        "#df_OASI['Datetime'] = pd.to_datetime(df_OASI['Datetime'], utc = True)\n",
        "\n",
        "df_OASI['Datetime'] = pd.to_datetime(df_OASI['Datetime'].astype(str))\n",
        "df_OASI.info()"
      ],
      "execution_count": null,
      "outputs": [
        {
          "output_type": "stream",
          "text": [
            "<class 'pandas.core.frame.DataFrame'>\n",
            "Int64Index: 191622 entries, 0 to 235639\n",
            "Data columns (total 3 columns):\n",
            " #   Column    Non-Null Count   Dtype         \n",
            "---  ------    --------------   -----         \n",
            " 0   Hum       191622 non-null  float64       \n",
            " 1   Rain      191622 non-null  float64       \n",
            " 2   Datetime  191622 non-null  datetime64[ns]\n",
            "dtypes: datetime64[ns](1), float64(2)\n",
            "memory usage: 10.8 MB\n"
          ],
          "name": "stdout"
        }
      ]
    },
    {
      "cell_type": "code",
      "metadata": {
        "ExecuteTime": {
          "end_time": "2021-03-02T20:23:27.397525Z",
          "start_time": "2021-03-02T20:23:27.258137Z"
        },
        "colab": {
          "base_uri": "https://localhost:8080/",
          "height": 237
        },
        "id": "ezNQEoWa2vfK",
        "outputId": "3d0836a9-4669-40fe-9e6d-7dd0d71ba7a7"
      },
      "source": [
        "#media anual\n",
        "dados_ano = df_OASI[['Hum','Rain']].groupby(by = df_OASI.Datetime.dt.year).mean()\n",
        "dados_ano"
      ],
      "execution_count": null,
      "outputs": [
        {
          "output_type": "execute_result",
          "data": {
            "text/html": [
              "<div>\n",
              "<style scoped>\n",
              "    .dataframe tbody tr th:only-of-type {\n",
              "        vertical-align: middle;\n",
              "    }\n",
              "\n",
              "    .dataframe tbody tr th {\n",
              "        vertical-align: top;\n",
              "    }\n",
              "\n",
              "    .dataframe thead th {\n",
              "        text-align: right;\n",
              "    }\n",
              "</style>\n",
              "<table border=\"1\" class=\"dataframe\">\n",
              "  <thead>\n",
              "    <tr style=\"text-align: right;\">\n",
              "      <th></th>\n",
              "      <th>Hum</th>\n",
              "      <th>Rain</th>\n",
              "    </tr>\n",
              "    <tr>\n",
              "      <th>Datetime</th>\n",
              "      <th></th>\n",
              "      <th></th>\n",
              "    </tr>\n",
              "  </thead>\n",
              "  <tbody>\n",
              "    <tr>\n",
              "      <th>2014</th>\n",
              "      <td>18.335265</td>\n",
              "      <td>0.092098</td>\n",
              "    </tr>\n",
              "    <tr>\n",
              "      <th>2015</th>\n",
              "      <td>18.662533</td>\n",
              "      <td>0.002265</td>\n",
              "    </tr>\n",
              "    <tr>\n",
              "      <th>2016</th>\n",
              "      <td>18.361734</td>\n",
              "      <td>0.000000</td>\n",
              "    </tr>\n",
              "    <tr>\n",
              "      <th>2017</th>\n",
              "      <td>18.930721</td>\n",
              "      <td>0.000000</td>\n",
              "    </tr>\n",
              "    <tr>\n",
              "      <th>2018</th>\n",
              "      <td>19.552497</td>\n",
              "      <td>0.033323</td>\n",
              "    </tr>\n",
              "  </tbody>\n",
              "</table>\n",
              "</div>"
            ],
            "text/plain": [
              "                Hum      Rain\n",
              "Datetime                     \n",
              "2014      18.335265  0.092098\n",
              "2015      18.662533  0.002265\n",
              "2016      18.361734  0.000000\n",
              "2017      18.930721  0.000000\n",
              "2018      19.552497  0.033323"
            ]
          },
          "metadata": {
            "tags": []
          },
          "execution_count": 55
        }
      ]
    },
    {
      "cell_type": "code",
      "metadata": {
        "ExecuteTime": {
          "end_time": "2021-03-02T20:23:27.615936Z",
          "start_time": "2021-03-02T20:23:27.400584Z"
        },
        "colab": {
          "base_uri": "https://localhost:8080/",
          "height": 455
        },
        "id": "hKhcxHbb2vfM",
        "outputId": "06cf47da-4bba-4cf0-c46a-ad068ad5ed1e"
      },
      "source": [
        "#media diaria\n",
        "dados_dia = df_OASI.groupby(by = df_OASI.Datetime.dt.date).mean()\n",
        "dados_dia"
      ],
      "execution_count": null,
      "outputs": [
        {
          "output_type": "execute_result",
          "data": {
            "text/html": [
              "<div>\n",
              "<style scoped>\n",
              "    .dataframe tbody tr th:only-of-type {\n",
              "        vertical-align: middle;\n",
              "    }\n",
              "\n",
              "    .dataframe tbody tr th {\n",
              "        vertical-align: top;\n",
              "    }\n",
              "\n",
              "    .dataframe thead th {\n",
              "        text-align: right;\n",
              "    }\n",
              "</style>\n",
              "<table border=\"1\" class=\"dataframe\">\n",
              "  <thead>\n",
              "    <tr style=\"text-align: right;\">\n",
              "      <th></th>\n",
              "      <th>Hum</th>\n",
              "      <th>Rain</th>\n",
              "    </tr>\n",
              "    <tr>\n",
              "      <th>Datetime</th>\n",
              "      <th></th>\n",
              "      <th></th>\n",
              "    </tr>\n",
              "  </thead>\n",
              "  <tbody>\n",
              "    <tr>\n",
              "      <th>2014-09-03</th>\n",
              "      <td>19.632025</td>\n",
              "      <td>0.000000</td>\n",
              "    </tr>\n",
              "    <tr>\n",
              "      <th>2014-09-04</th>\n",
              "      <td>18.822053</td>\n",
              "      <td>0.000000</td>\n",
              "    </tr>\n",
              "    <tr>\n",
              "      <th>2014-09-05</th>\n",
              "      <td>17.611506</td>\n",
              "      <td>0.000000</td>\n",
              "    </tr>\n",
              "    <tr>\n",
              "      <th>2014-09-06</th>\n",
              "      <td>17.684167</td>\n",
              "      <td>0.000000</td>\n",
              "    </tr>\n",
              "    <tr>\n",
              "      <th>2014-09-07</th>\n",
              "      <td>17.304258</td>\n",
              "      <td>0.000000</td>\n",
              "    </tr>\n",
              "    <tr>\n",
              "      <th>...</th>\n",
              "      <td>...</td>\n",
              "      <td>...</td>\n",
              "    </tr>\n",
              "    <tr>\n",
              "      <th>2018-12-01</th>\n",
              "      <td>20.000278</td>\n",
              "      <td>0.067686</td>\n",
              "    </tr>\n",
              "    <tr>\n",
              "      <th>2018-12-02</th>\n",
              "      <td>21.920764</td>\n",
              "      <td>0.722639</td>\n",
              "    </tr>\n",
              "    <tr>\n",
              "      <th>2018-12-03</th>\n",
              "      <td>21.132015</td>\n",
              "      <td>0.000000</td>\n",
              "    </tr>\n",
              "    <tr>\n",
              "      <th>2018-12-05</th>\n",
              "      <td>21.169522</td>\n",
              "      <td>0.810873</td>\n",
              "    </tr>\n",
              "    <tr>\n",
              "      <th>2018-12-06</th>\n",
              "      <td>20.643536</td>\n",
              "      <td>0.178975</td>\n",
              "    </tr>\n",
              "  </tbody>\n",
              "</table>\n",
              "<p>200 rows × 2 columns</p>\n",
              "</div>"
            ],
            "text/plain": [
              "                  Hum      Rain\n",
              "Datetime                       \n",
              "2014-09-03  19.632025  0.000000\n",
              "2014-09-04  18.822053  0.000000\n",
              "2014-09-05  17.611506  0.000000\n",
              "2014-09-06  17.684167  0.000000\n",
              "2014-09-07  17.304258  0.000000\n",
              "...               ...       ...\n",
              "2018-12-01  20.000278  0.067686\n",
              "2018-12-02  21.920764  0.722639\n",
              "2018-12-03  21.132015  0.000000\n",
              "2018-12-05  21.169522  0.810873\n",
              "2018-12-06  20.643536  0.178975\n",
              "\n",
              "[200 rows x 2 columns]"
            ]
          },
          "metadata": {
            "tags": []
          },
          "execution_count": 56
        }
      ]
    },
    {
      "cell_type": "code",
      "metadata": {
        "ExecuteTime": {
          "end_time": "2021-03-02T20:23:27.649973Z",
          "start_time": "2021-03-02T20:23:27.618756Z"
        },
        "id": "FcyLGlCss2Q_",
        "colab": {
          "base_uri": "https://localhost:8080/",
          "height": 237
        },
        "outputId": "b3b0f0d2-6bc9-486e-8c91-28ed82836085"
      },
      "source": [
        "dados_dia.head()"
      ],
      "execution_count": null,
      "outputs": [
        {
          "output_type": "execute_result",
          "data": {
            "text/html": [
              "<div>\n",
              "<style scoped>\n",
              "    .dataframe tbody tr th:only-of-type {\n",
              "        vertical-align: middle;\n",
              "    }\n",
              "\n",
              "    .dataframe tbody tr th {\n",
              "        vertical-align: top;\n",
              "    }\n",
              "\n",
              "    .dataframe thead th {\n",
              "        text-align: right;\n",
              "    }\n",
              "</style>\n",
              "<table border=\"1\" class=\"dataframe\">\n",
              "  <thead>\n",
              "    <tr style=\"text-align: right;\">\n",
              "      <th></th>\n",
              "      <th>Hum</th>\n",
              "      <th>Rain</th>\n",
              "    </tr>\n",
              "    <tr>\n",
              "      <th>Datetime</th>\n",
              "      <th></th>\n",
              "      <th></th>\n",
              "    </tr>\n",
              "  </thead>\n",
              "  <tbody>\n",
              "    <tr>\n",
              "      <th>2014-09-03</th>\n",
              "      <td>19.632025</td>\n",
              "      <td>0.0</td>\n",
              "    </tr>\n",
              "    <tr>\n",
              "      <th>2014-09-04</th>\n",
              "      <td>18.822053</td>\n",
              "      <td>0.0</td>\n",
              "    </tr>\n",
              "    <tr>\n",
              "      <th>2014-09-05</th>\n",
              "      <td>17.611506</td>\n",
              "      <td>0.0</td>\n",
              "    </tr>\n",
              "    <tr>\n",
              "      <th>2014-09-06</th>\n",
              "      <td>17.684167</td>\n",
              "      <td>0.0</td>\n",
              "    </tr>\n",
              "    <tr>\n",
              "      <th>2014-09-07</th>\n",
              "      <td>17.304258</td>\n",
              "      <td>0.0</td>\n",
              "    </tr>\n",
              "  </tbody>\n",
              "</table>\n",
              "</div>"
            ],
            "text/plain": [
              "                  Hum  Rain\n",
              "Datetime                   \n",
              "2014-09-03  19.632025   0.0\n",
              "2014-09-04  18.822053   0.0\n",
              "2014-09-05  17.611506   0.0\n",
              "2014-09-06  17.684167   0.0\n",
              "2014-09-07  17.304258   0.0"
            ]
          },
          "metadata": {
            "tags": []
          },
          "execution_count": 57
        }
      ]
    },
    {
      "cell_type": "code",
      "metadata": {
        "ExecuteTime": {
          "end_time": "2021-03-02T20:23:27.740304Z",
          "start_time": "2021-03-02T20:23:27.653828Z"
        },
        "id": "WkafvN8Or7SZ"
      },
      "source": [
        "dados_dia.to_csv('dados_media-diaria_OASI')"
      ],
      "execution_count": null,
      "outputs": []
    },
    {
      "cell_type": "code",
      "metadata": {
        "ExecuteTime": {
          "end_time": "2021-03-02T20:23:29.464803Z",
          "start_time": "2021-03-02T20:23:27.744487Z"
        },
        "colab": {
          "base_uri": "https://localhost:8080/",
          "height": 336
        },
        "id": "MvyODxxBSQ_M",
        "outputId": "6858cecc-0911-46b9-dbfb-642208b55e69"
      },
      "source": [
        "plt.subplot(121)\n",
        "plt.scatter(dados_dia.index.values,dados_dia['Rain'])\n",
        "plt.yticks(size = 13)\n",
        "plt.xticks(rotation = 25, size = 13)\n",
        "plt.ylim(0,1.0)\n",
        "plt.ylabel('PRECIPITACAO TOTAL (AUT) (mm)', size = 13)\n",
        "plt.xlabel('Tempo de observação' + ' (Início ' + str(df_OASI['Datetime'][0]) + ')', size = 13)\n",
        "\n",
        "\n",
        "plt.subplot(122)\n",
        "plt.yticks(size = 13)\n",
        "plt.scatter(dados_dia.index, dados_dia['Hum'])\n",
        "plt.xticks(rotation = 25, size = 13)\n",
        "plt.ylabel('UMIDADE RELATIVA TOTAL (AUT) %', size = 13)\n",
        "plt.xlabel('Tempo de observação' + ' (Início ' + str(df_OASI['Datetime'][0]) + ')', size = 13)\n",
        "\n",
        "\n",
        "plt.suptitle('OASI - Média diária', size = 17)\n",
        "plt.show()"
      ],
      "execution_count": null,
      "outputs": [
        {
          "output_type": "display_data",
          "data": {
            "image/png": "[encoded data removed]",
            "text/plain": [
              "<Figure size 432x288 with 2 Axes>"
            ]
          },
          "metadata": {
            "tags": [],
            "needs_background": "light"
          }
        }
      ]
    },
    {
      "cell_type": "markdown",
      "metadata": {
        "id": "KDRf3Tk0s2RA"
      },
      "source": [
        "### **OASI + Floresta A351**"
      ]
    },
    {
      "cell_type": "code",
      "metadata": {
        "ExecuteTime": {
          "end_time": "2021-03-02T20:23:29.498044Z",
          "start_time": "2021-03-02T20:23:29.469456Z"
        },
        "colab": {
          "base_uri": "https://localhost:8080/",
          "height": 206
        },
        "id": "yYx7AW4t6sO-",
        "outputId": "685cd27e-3677-4f71-c125-64c6cf51f4c5"
      },
      "source": [
        "df.head()"
      ],
      "execution_count": null,
      "outputs": [
        {
          "output_type": "execute_result",
          "data": {
            "text/html": [
              "<div>\n",
              "<style scoped>\n",
              "    .dataframe tbody tr th:only-of-type {\n",
              "        vertical-align: middle;\n",
              "    }\n",
              "\n",
              "    .dataframe tbody tr th {\n",
              "        vertical-align: top;\n",
              "    }\n",
              "\n",
              "    .dataframe thead th {\n",
              "        text-align: right;\n",
              "    }\n",
              "</style>\n",
              "<table border=\"1\" class=\"dataframe\">\n",
              "  <thead>\n",
              "    <tr style=\"text-align: right;\">\n",
              "      <th></th>\n",
              "      <th>Date</th>\n",
              "      <th>Rain</th>\n",
              "      <th>Hum</th>\n",
              "    </tr>\n",
              "  </thead>\n",
              "  <tbody>\n",
              "    <tr>\n",
              "      <th>0</th>\n",
              "      <td>2011-01-01</td>\n",
              "      <td>0.0</td>\n",
              "      <td>47.666667</td>\n",
              "    </tr>\n",
              "    <tr>\n",
              "      <th>1</th>\n",
              "      <td>2011-01-02</td>\n",
              "      <td>0.0</td>\n",
              "      <td>52.750000</td>\n",
              "    </tr>\n",
              "    <tr>\n",
              "      <th>2</th>\n",
              "      <td>2011-01-03</td>\n",
              "      <td>11.0</td>\n",
              "      <td>68.833333</td>\n",
              "    </tr>\n",
              "    <tr>\n",
              "      <th>3</th>\n",
              "      <td>2011-01-04</td>\n",
              "      <td>0.0</td>\n",
              "      <td>58.166667</td>\n",
              "    </tr>\n",
              "    <tr>\n",
              "      <th>4</th>\n",
              "      <td>2011-01-05</td>\n",
              "      <td>0.0</td>\n",
              "      <td>51.750000</td>\n",
              "    </tr>\n",
              "  </tbody>\n",
              "</table>\n",
              "</div>"
            ],
            "text/plain": [
              "        Date  Rain        Hum\n",
              "0 2011-01-01   0.0  47.666667\n",
              "1 2011-01-02   0.0  52.750000\n",
              "2 2011-01-03  11.0  68.833333\n",
              "3 2011-01-04   0.0  58.166667\n",
              "4 2011-01-05   0.0  51.750000"
            ]
          },
          "metadata": {
            "tags": []
          },
          "execution_count": 60
        }
      ]
    },
    {
      "cell_type": "code",
      "metadata": {
        "ExecuteTime": {
          "end_time": "2021-03-02T20:23:29.585604Z",
          "start_time": "2021-03-02T20:23:29.500583Z"
        },
        "colab": {
          "base_uri": "https://localhost:8080/",
          "height": 206
        },
        "id": "Jv_DAjku8bVg",
        "outputId": "0b250c70-d16f-4b73-c484-fd3cdcd1be2b"
      },
      "source": [
        "df.columns = ['Datetime', 'Rain (Floresta)', 'Hum (Floresta)']\n",
        "df.head()"
      ],
      "execution_count": null,
      "outputs": [
        {
          "output_type": "execute_result",
          "data": {
            "text/html": [
              "<div>\n",
              "<style scoped>\n",
              "    .dataframe tbody tr th:only-of-type {\n",
              "        vertical-align: middle;\n",
              "    }\n",
              "\n",
              "    .dataframe tbody tr th {\n",
              "        vertical-align: top;\n",
              "    }\n",
              "\n",
              "    .dataframe thead th {\n",
              "        text-align: right;\n",
              "    }\n",
              "</style>\n",
              "<table border=\"1\" class=\"dataframe\">\n",
              "  <thead>\n",
              "    <tr style=\"text-align: right;\">\n",
              "      <th></th>\n",
              "      <th>Datetime</th>\n",
              "      <th>Rain (Floresta)</th>\n",
              "      <th>Hum (Floresta)</th>\n",
              "    </tr>\n",
              "  </thead>\n",
              "  <tbody>\n",
              "    <tr>\n",
              "      <th>0</th>\n",
              "      <td>2011-01-01</td>\n",
              "      <td>0.0</td>\n",
              "      <td>47.666667</td>\n",
              "    </tr>\n",
              "    <tr>\n",
              "      <th>1</th>\n",
              "      <td>2011-01-02</td>\n",
              "      <td>0.0</td>\n",
              "      <td>52.750000</td>\n",
              "    </tr>\n",
              "    <tr>\n",
              "      <th>2</th>\n",
              "      <td>2011-01-03</td>\n",
              "      <td>11.0</td>\n",
              "      <td>68.833333</td>\n",
              "    </tr>\n",
              "    <tr>\n",
              "      <th>3</th>\n",
              "      <td>2011-01-04</td>\n",
              "      <td>0.0</td>\n",
              "      <td>58.166667</td>\n",
              "    </tr>\n",
              "    <tr>\n",
              "      <th>4</th>\n",
              "      <td>2011-01-05</td>\n",
              "      <td>0.0</td>\n",
              "      <td>51.750000</td>\n",
              "    </tr>\n",
              "  </tbody>\n",
              "</table>\n",
              "</div>"
            ],
            "text/plain": [
              "    Datetime  Rain (Floresta)  Hum (Floresta)\n",
              "0 2011-01-01              0.0       47.666667\n",
              "1 2011-01-02              0.0       52.750000\n",
              "2 2011-01-03             11.0       68.833333\n",
              "3 2011-01-04              0.0       58.166667\n",
              "4 2011-01-05              0.0       51.750000"
            ]
          },
          "metadata": {
            "tags": []
          },
          "execution_count": 61
        }
      ]
    },
    {
      "cell_type": "code",
      "metadata": {
        "ExecuteTime": {
          "end_time": "2021-03-02T20:23:29.638208Z",
          "start_time": "2021-03-02T20:23:29.588121Z"
        },
        "id": "zAmmZ5jCs2RB",
        "colab": {
          "base_uri": "https://localhost:8080/"
        },
        "outputId": "c1b23e06-219b-43e1-8158-91a1d0752167"
      },
      "source": [
        "df.dtypes"
      ],
      "execution_count": null,
      "outputs": [
        {
          "output_type": "execute_result",
          "data": {
            "text/plain": [
              "Datetime           datetime64[ns]\n",
              "Rain (Floresta)           float64\n",
              "Hum (Floresta)            float64\n",
              "dtype: object"
            ]
          },
          "metadata": {
            "tags": []
          },
          "execution_count": 62
        }
      ]
    },
    {
      "cell_type": "code",
      "metadata": {
        "ExecuteTime": {
          "end_time": "2021-03-02T20:23:29.720135Z",
          "start_time": "2021-03-02T20:23:29.641601Z"
        },
        "colab": {
          "base_uri": "https://localhost:8080/",
          "height": 237
        },
        "id": "82tsjRm2U_VM",
        "outputId": "2834d92c-a61e-4cc8-edf3-0f43c6548832"
      },
      "source": [
        "dados_dia.head()"
      ],
      "execution_count": null,
      "outputs": [
        {
          "output_type": "execute_result",
          "data": {
            "text/html": [
              "<div>\n",
              "<style scoped>\n",
              "    .dataframe tbody tr th:only-of-type {\n",
              "        vertical-align: middle;\n",
              "    }\n",
              "\n",
              "    .dataframe tbody tr th {\n",
              "        vertical-align: top;\n",
              "    }\n",
              "\n",
              "    .dataframe thead th {\n",
              "        text-align: right;\n",
              "    }\n",
              "</style>\n",
              "<table border=\"1\" class=\"dataframe\">\n",
              "  <thead>\n",
              "    <tr style=\"text-align: right;\">\n",
              "      <th></th>\n",
              "      <th>Hum</th>\n",
              "      <th>Rain</th>\n",
              "    </tr>\n",
              "    <tr>\n",
              "      <th>Datetime</th>\n",
              "      <th></th>\n",
              "      <th></th>\n",
              "    </tr>\n",
              "  </thead>\n",
              "  <tbody>\n",
              "    <tr>\n",
              "      <th>2014-09-03</th>\n",
              "      <td>19.632025</td>\n",
              "      <td>0.0</td>\n",
              "    </tr>\n",
              "    <tr>\n",
              "      <th>2014-09-04</th>\n",
              "      <td>18.822053</td>\n",
              "      <td>0.0</td>\n",
              "    </tr>\n",
              "    <tr>\n",
              "      <th>2014-09-05</th>\n",
              "      <td>17.611506</td>\n",
              "      <td>0.0</td>\n",
              "    </tr>\n",
              "    <tr>\n",
              "      <th>2014-09-06</th>\n",
              "      <td>17.684167</td>\n",
              "      <td>0.0</td>\n",
              "    </tr>\n",
              "    <tr>\n",
              "      <th>2014-09-07</th>\n",
              "      <td>17.304258</td>\n",
              "      <td>0.0</td>\n",
              "    </tr>\n",
              "  </tbody>\n",
              "</table>\n",
              "</div>"
            ],
            "text/plain": [
              "                  Hum  Rain\n",
              "Datetime                   \n",
              "2014-09-03  19.632025   0.0\n",
              "2014-09-04  18.822053   0.0\n",
              "2014-09-05  17.611506   0.0\n",
              "2014-09-06  17.684167   0.0\n",
              "2014-09-07  17.304258   0.0"
            ]
          },
          "metadata": {
            "tags": []
          },
          "execution_count": 63
        }
      ]
    },
    {
      "cell_type": "code",
      "metadata": {
        "ExecuteTime": {
          "end_time": "2021-03-02T20:23:29.798372Z",
          "start_time": "2021-03-02T20:23:29.722914Z"
        },
        "colab": {
          "base_uri": "https://localhost:8080/",
          "height": 206
        },
        "id": "oK2vUS4l7vCL",
        "outputId": "0d313597-a15a-4668-c9fb-7a5de4abfedf"
      },
      "source": [
        "dados_dia = dados_dia.reset_index()\n",
        "dados_dia.head()"
      ],
      "execution_count": null,
      "outputs": [
        {
          "output_type": "execute_result",
          "data": {
            "text/html": [
              "<div>\n",
              "<style scoped>\n",
              "    .dataframe tbody tr th:only-of-type {\n",
              "        vertical-align: middle;\n",
              "    }\n",
              "\n",
              "    .dataframe tbody tr th {\n",
              "        vertical-align: top;\n",
              "    }\n",
              "\n",
              "    .dataframe thead th {\n",
              "        text-align: right;\n",
              "    }\n",
              "</style>\n",
              "<table border=\"1\" class=\"dataframe\">\n",
              "  <thead>\n",
              "    <tr style=\"text-align: right;\">\n",
              "      <th></th>\n",
              "      <th>Datetime</th>\n",
              "      <th>Hum</th>\n",
              "      <th>Rain</th>\n",
              "    </tr>\n",
              "  </thead>\n",
              "  <tbody>\n",
              "    <tr>\n",
              "      <th>0</th>\n",
              "      <td>2014-09-03</td>\n",
              "      <td>19.632025</td>\n",
              "      <td>0.0</td>\n",
              "    </tr>\n",
              "    <tr>\n",
              "      <th>1</th>\n",
              "      <td>2014-09-04</td>\n",
              "      <td>18.822053</td>\n",
              "      <td>0.0</td>\n",
              "    </tr>\n",
              "    <tr>\n",
              "      <th>2</th>\n",
              "      <td>2014-09-05</td>\n",
              "      <td>17.611506</td>\n",
              "      <td>0.0</td>\n",
              "    </tr>\n",
              "    <tr>\n",
              "      <th>3</th>\n",
              "      <td>2014-09-06</td>\n",
              "      <td>17.684167</td>\n",
              "      <td>0.0</td>\n",
              "    </tr>\n",
              "    <tr>\n",
              "      <th>4</th>\n",
              "      <td>2014-09-07</td>\n",
              "      <td>17.304258</td>\n",
              "      <td>0.0</td>\n",
              "    </tr>\n",
              "  </tbody>\n",
              "</table>\n",
              "</div>"
            ],
            "text/plain": [
              "     Datetime        Hum  Rain\n",
              "0  2014-09-03  19.632025   0.0\n",
              "1  2014-09-04  18.822053   0.0\n",
              "2  2014-09-05  17.611506   0.0\n",
              "3  2014-09-06  17.684167   0.0\n",
              "4  2014-09-07  17.304258   0.0"
            ]
          },
          "metadata": {
            "tags": []
          },
          "execution_count": 64
        }
      ]
    },
    {
      "cell_type": "code",
      "metadata": {
        "ExecuteTime": {
          "end_time": "2021-03-02T20:23:29.888257Z",
          "start_time": "2021-03-02T20:23:29.802798Z"
        },
        "colab": {
          "base_uri": "https://localhost:8080/",
          "height": 206
        },
        "id": "FrQuK1wD9DxW",
        "outputId": "46127312-2d0e-4d35-a6eb-06162f6416dd"
      },
      "source": [
        "dados_dia.columns = ['Datetime', 'Hum (OASI)', 'Rain (OASI)']\n",
        "dados_dia.head()"
      ],
      "execution_count": null,
      "outputs": [
        {
          "output_type": "execute_result",
          "data": {
            "text/html": [
              "<div>\n",
              "<style scoped>\n",
              "    .dataframe tbody tr th:only-of-type {\n",
              "        vertical-align: middle;\n",
              "    }\n",
              "\n",
              "    .dataframe tbody tr th {\n",
              "        vertical-align: top;\n",
              "    }\n",
              "\n",
              "    .dataframe thead th {\n",
              "        text-align: right;\n",
              "    }\n",
              "</style>\n",
              "<table border=\"1\" class=\"dataframe\">\n",
              "  <thead>\n",
              "    <tr style=\"text-align: right;\">\n",
              "      <th></th>\n",
              "      <th>Datetime</th>\n",
              "      <th>Hum (OASI)</th>\n",
              "      <th>Rain (OASI)</th>\n",
              "    </tr>\n",
              "  </thead>\n",
              "  <tbody>\n",
              "    <tr>\n",
              "      <th>0</th>\n",
              "      <td>2014-09-03</td>\n",
              "      <td>19.632025</td>\n",
              "      <td>0.0</td>\n",
              "    </tr>\n",
              "    <tr>\n",
              "      <th>1</th>\n",
              "      <td>2014-09-04</td>\n",
              "      <td>18.822053</td>\n",
              "      <td>0.0</td>\n",
              "    </tr>\n",
              "    <tr>\n",
              "      <th>2</th>\n",
              "      <td>2014-09-05</td>\n",
              "      <td>17.611506</td>\n",
              "      <td>0.0</td>\n",
              "    </tr>\n",
              "    <tr>\n",
              "      <th>3</th>\n",
              "      <td>2014-09-06</td>\n",
              "      <td>17.684167</td>\n",
              "      <td>0.0</td>\n",
              "    </tr>\n",
              "    <tr>\n",
              "      <th>4</th>\n",
              "      <td>2014-09-07</td>\n",
              "      <td>17.304258</td>\n",
              "      <td>0.0</td>\n",
              "    </tr>\n",
              "  </tbody>\n",
              "</table>\n",
              "</div>"
            ],
            "text/plain": [
              "     Datetime  Hum (OASI)  Rain (OASI)\n",
              "0  2014-09-03   19.632025          0.0\n",
              "1  2014-09-04   18.822053          0.0\n",
              "2  2014-09-05   17.611506          0.0\n",
              "3  2014-09-06   17.684167          0.0\n",
              "4  2014-09-07   17.304258          0.0"
            ]
          },
          "metadata": {
            "tags": []
          },
          "execution_count": 65
        }
      ]
    },
    {
      "cell_type": "code",
      "metadata": {
        "ExecuteTime": {
          "end_time": "2021-03-02T20:23:29.964992Z",
          "start_time": "2021-03-02T20:23:29.895150Z"
        },
        "colab": {
          "base_uri": "https://localhost:8080/"
        },
        "id": "yzEYa47l9em-",
        "outputId": "6a95c4f5-4f1f-4606-a9f9-ace9d14be0d8"
      },
      "source": [
        "dados_dia['Datetime'] = pd.to_datetime(dados_dia['Datetime'])\n",
        "dados_dia.dtypes"
      ],
      "execution_count": null,
      "outputs": [
        {
          "output_type": "execute_result",
          "data": {
            "text/plain": [
              "Datetime       datetime64[ns]\n",
              "Hum (OASI)            float64\n",
              "Rain (OASI)           float64\n",
              "dtype: object"
            ]
          },
          "metadata": {
            "tags": []
          },
          "execution_count": 66
        }
      ]
    },
    {
      "cell_type": "code",
      "metadata": {
        "ExecuteTime": {
          "end_time": "2021-03-02T20:23:30.183850Z",
          "start_time": "2021-03-02T20:23:29.968731Z"
        },
        "colab": {
          "base_uri": "https://localhost:8080/",
          "height": 206
        },
        "id": "ysQyxeUT9RA4",
        "outputId": "7e404609-b136-4793-9d09-74431adb1f0b"
      },
      "source": [
        "df_diario_OASI_Floresta = dados_dia.merge(df, on = 'Datetime')\n",
        "df_diario_OASI_Floresta.head()"
      ],
      "execution_count": null,
      "outputs": [
        {
          "output_type": "execute_result",
          "data": {
            "text/html": [
              "<div>\n",
              "<style scoped>\n",
              "    .dataframe tbody tr th:only-of-type {\n",
              "        vertical-align: middle;\n",
              "    }\n",
              "\n",
              "    .dataframe tbody tr th {\n",
              "        vertical-align: top;\n",
              "    }\n",
              "\n",
              "    .dataframe thead th {\n",
              "        text-align: right;\n",
              "    }\n",
              "</style>\n",
              "<table border=\"1\" class=\"dataframe\">\n",
              "  <thead>\n",
              "    <tr style=\"text-align: right;\">\n",
              "      <th></th>\n",
              "      <th>Datetime</th>\n",
              "      <th>Hum (OASI)</th>\n",
              "      <th>Rain (OASI)</th>\n",
              "      <th>Rain (Floresta)</th>\n",
              "      <th>Hum (Floresta)</th>\n",
              "    </tr>\n",
              "  </thead>\n",
              "  <tbody>\n",
              "    <tr>\n",
              "      <th>0</th>\n",
              "      <td>2014-09-03</td>\n",
              "      <td>19.632025</td>\n",
              "      <td>0.0</td>\n",
              "      <td>0.0</td>\n",
              "      <td>45.041667</td>\n",
              "    </tr>\n",
              "    <tr>\n",
              "      <th>1</th>\n",
              "      <td>2014-09-04</td>\n",
              "      <td>18.822053</td>\n",
              "      <td>0.0</td>\n",
              "      <td>0.0</td>\n",
              "      <td>47.708333</td>\n",
              "    </tr>\n",
              "    <tr>\n",
              "      <th>2</th>\n",
              "      <td>2014-09-05</td>\n",
              "      <td>17.611506</td>\n",
              "      <td>0.0</td>\n",
              "      <td>0.0</td>\n",
              "      <td>62.750000</td>\n",
              "    </tr>\n",
              "    <tr>\n",
              "      <th>3</th>\n",
              "      <td>2014-09-06</td>\n",
              "      <td>17.684167</td>\n",
              "      <td>0.0</td>\n",
              "      <td>0.4</td>\n",
              "      <td>67.625000</td>\n",
              "    </tr>\n",
              "    <tr>\n",
              "      <th>4</th>\n",
              "      <td>2014-09-07</td>\n",
              "      <td>17.304258</td>\n",
              "      <td>0.0</td>\n",
              "      <td>0.0</td>\n",
              "      <td>63.208333</td>\n",
              "    </tr>\n",
              "  </tbody>\n",
              "</table>\n",
              "</div>"
            ],
            "text/plain": [
              "    Datetime  Hum (OASI)  Rain (OASI)  Rain (Floresta)  Hum (Floresta)\n",
              "0 2014-09-03   19.632025          0.0              0.0       45.041667\n",
              "1 2014-09-04   18.822053          0.0              0.0       47.708333\n",
              "2 2014-09-05   17.611506          0.0              0.0       62.750000\n",
              "3 2014-09-06   17.684167          0.0              0.4       67.625000\n",
              "4 2014-09-07   17.304258          0.0              0.0       63.208333"
            ]
          },
          "metadata": {
            "tags": []
          },
          "execution_count": 67
        }
      ]
    },
    {
      "cell_type": "code",
      "metadata": {
        "ExecuteTime": {
          "end_time": "2021-03-02T20:23:30.205608Z",
          "start_time": "2021-03-02T20:23:30.188560Z"
        },
        "colab": {
          "base_uri": "https://localhost:8080/"
        },
        "id": "9c9IJC73AbwX",
        "outputId": "3120f217-c062-47e7-b513-0451cb191db0"
      },
      "source": [
        "df_diario_OASI_Floresta.info()"
      ],
      "execution_count": null,
      "outputs": [
        {
          "output_type": "stream",
          "text": [
            "<class 'pandas.core.frame.DataFrame'>\n",
            "Int64Index: 187 entries, 0 to 186\n",
            "Data columns (total 5 columns):\n",
            " #   Column           Non-Null Count  Dtype         \n",
            "---  ------           --------------  -----         \n",
            " 0   Datetime         187 non-null    datetime64[ns]\n",
            " 1   Hum (OASI)       187 non-null    float64       \n",
            " 2   Rain (OASI)      187 non-null    float64       \n",
            " 3   Rain (Floresta)  187 non-null    float64       \n",
            " 4   Hum (Floresta)   187 non-null    float64       \n",
            "dtypes: datetime64[ns](1), float64(4)\n",
            "memory usage: 8.8 KB\n"
          ],
          "name": "stdout"
        }
      ]
    },
    {
      "cell_type": "code",
      "metadata": {
        "ExecuteTime": {
          "end_time": "2021-03-02T20:23:30.276992Z",
          "start_time": "2021-03-02T20:23:30.208191Z"
        },
        "colab": {
          "base_uri": "https://localhost:8080/"
        },
        "id": "kurwV0LgXF5L",
        "outputId": "76fcd65d-f3ee-4027-f762-4e73c47f0da6"
      },
      "source": [
        "df_diario_OASI_Floresta['Hum (OASI)'].max()"
      ],
      "execution_count": null,
      "outputs": [
        {
          "output_type": "execute_result",
          "data": {
            "text/plain": [
              "21.920763888888892"
            ]
          },
          "metadata": {
            "tags": []
          },
          "execution_count": 69
        }
      ]
    },
    {
      "cell_type": "code",
      "metadata": {
        "ExecuteTime": {
          "end_time": "2021-03-02T20:23:30.358046Z",
          "start_time": "2021-03-02T20:23:30.282527Z"
        },
        "colab": {
          "base_uri": "https://localhost:8080/"
        },
        "id": "aSJzQyxcXK2y",
        "outputId": "2c83e6b6-a05c-4de3-c310-a865a020cf07"
      },
      "source": [
        "df_diario_OASI_Floresta['Hum (Floresta)'].max()"
      ],
      "execution_count": null,
      "outputs": [
        {
          "output_type": "execute_result",
          "data": {
            "text/plain": [
              "77.25"
            ]
          },
          "metadata": {
            "tags": []
          },
          "execution_count": 70
        }
      ]
    },
    {
      "cell_type": "code",
      "metadata": {
        "ExecuteTime": {
          "end_time": "2021-03-02T20:23:30.446405Z",
          "start_time": "2021-03-02T20:23:30.366907Z"
        },
        "id": "QBORCHnRAfWl"
      },
      "source": [
        "df_diario_OASI_Floresta.to_csv('dados_media_diaria-OASI-Floresta')"
      ],
      "execution_count": null,
      "outputs": []
    },
    {
      "cell_type": "markdown",
      "metadata": {
        "id": "w8FmwzPxs2RU"
      },
      "source": [
        "### **Correlação**"
      ]
    },
    {
      "cell_type": "code",
      "metadata": {
        "ExecuteTime": {
          "end_time": "2021-03-02T20:23:32.654811Z",
          "start_time": "2021-03-02T20:23:30.449323Z"
        },
        "colab": {
          "base_uri": "https://localhost:8080/",
          "height": 336
        },
        "id": "_YTLQ1TIL5oc",
        "outputId": "a3b6fd5a-7267-4389-aa6c-a35560b0cbe6"
      },
      "source": [
        "plt.subplot(121)\n",
        "plt.scatter(df_diario_OASI_Floresta['Datetime'], df_diario_OASI_Floresta['Hum (OASI)'], label = 'OASI',color = 'blue')\n",
        "plt.scatter(df_diario_OASI_Floresta['Datetime'], df_diario_OASI_Floresta['Hum (Floresta)'], label = 'Floresta A351',color = 'red')\n",
        "plt.xticks(rotation = 25, size = 13)\n",
        "plt.ylabel('UMIDADE RELATIVA TOTAL (AUT) %', size = 13)\n",
        "plt.xlabel('Tempo de observação' + ' (Início ' + str(df_diario_OASI_Floresta['Datetime'][0]) + ')', size = 13)\n",
        "plt.ylim(0,80)\n",
        "plt.legend()\n",
        "\n",
        "plt.subplot(122)\n",
        "plt.scatter(df_diario_OASI_Floresta['Datetime'], df_diario_OASI_Floresta['Rain (OASI)'], label = 'OASI',color = 'blue')\n",
        "plt.scatter(df_diario_OASI_Floresta['Datetime'], df_diario_OASI_Floresta['Rain (Floresta)'], label = 'Floresta A351',color = 'red')\n",
        "plt.xticks(rotation = 25, size = 13)\n",
        "plt.ylabel('PRECIPITACAO TOTAL (AUT) (mm)', size = 13)\n",
        "plt.xlabel('Tempo de observação' + ' (Início ' + str(df_diario_OASI_Floresta['Datetime'][0]) + ')', size = 13)\n",
        "plt.ylim(0,60)\n",
        "plt.legend()\n",
        "\n",
        "plt.suptitle('Média diária - OASI e Floresta A351', size = 17)\n",
        "\n",
        "plt.savefig('media_diaria_OASI-Floresta.png')\n",
        "plt.show()"
      ],
      "execution_count": null,
      "outputs": [
        {
          "output_type": "display_data",
          "data": {
            "image/png": "[encoded data removed]",
            "text/plain": [
              "<Figure size 432x288 with 2 Axes>"
            ]
          },
          "metadata": {
            "tags": [],
            "needs_background": "light"
          }
        }
      ]
    },
    {
      "cell_type": "code",
      "metadata": {
        "ExecuteTime": {
          "end_time": "2021-03-02T20:23:33.352019Z",
          "start_time": "2021-03-02T20:23:32.660884Z"
        },
        "id": "D8iJf31Ns2RU",
        "colab": {
          "base_uri": "https://localhost:8080/",
          "height": 445
        },
        "outputId": "5a6b183f-3dd0-46ed-c37c-0066ad0e286b"
      },
      "source": [
        "#correlacao de pearson pelo scipy\n",
        "corr_pearson_scipy, p_value_pearson = pearsonr(df_diario_OASI_Floresta['Hum (Floresta)'],\n",
        "                               df_diario_OASI_Floresta['Hum (OASI)'])\n",
        "\n",
        "#correlacao de spearman pelo scipy\n",
        "corr_spearman_scipy, p_value_spearman = spearmanr(df_diario_OASI_Floresta['Hum (Floresta)'],\n",
        "                               df_diario_OASI_Floresta['Hum (OASI)'])\n",
        "\n",
        "corr_pearson_scipy = int(corr_pearson_scipy*100)/100\n",
        "corr_spearman_scipy = int(corr_spearman_scipy*100)/100\n",
        "\n",
        "#print('Correlacao de Pearson: {}'.format(corr_pearson_scipy))\n",
        "#print('Correlacao de Spearman: {}'.format(corr_spearman_scipy))\n",
        "\n",
        "plt.figure(figsize = (11,7))\n",
        "plt.scatter(df_diario_OASI_Floresta['Hum (Floresta)'], df_diario_OASI_Floresta['Hum (OASI)'], color = 'blue')\n",
        "pearson = 'Correlacao de Pearson: ' + str(corr_pearson_scipy)\n",
        "spearman = 'Correlacao de Spearman: ' + str(corr_spearman_scipy)\n",
        "plt.text(60,16, pearson, fontsize = 12)\n",
        "plt.text(60,15.7, spearman, fontsize = 12)\n",
        "plt.ylabel('UMIDADE RELATIVA TOTAL (AUT) %  - OASI', size = 13)\n",
        "plt.xlabel('UMIDADE RELATIVA TOTAL (AUT) % - Floresta A351', size = 13)\n",
        "plt.savefig('umidade-OASIxFloresta.png')\n",
        "plt.show()"
      ],
      "execution_count": null,
      "outputs": [
        {
          "output_type": "display_data",
          "data": {
            "image/png": "[encoded data removed]",
            "text/plain": [
              "<Figure size 792x504 with 1 Axes>"
            ]
          },
          "metadata": {
            "tags": [],
            "needs_background": "light"
          }
        }
      ]
    },
    {
      "cell_type": "code",
      "metadata": {
        "ExecuteTime": {
          "end_time": "2021-03-02T20:23:34.211933Z",
          "start_time": "2021-03-02T20:23:33.354679Z"
        },
        "scrolled": false,
        "id": "csqQksgls2RV",
        "colab": {
          "base_uri": "https://localhost:8080/",
          "height": 542
        },
        "outputId": "abe8836e-b8d2-4bb6-ce35-a8dfe727090d"
      },
      "source": [
        "# correlacao de pearson pelo pandas\n",
        "corr = df_diario_OASI_Floresta.corr()\n",
        "corr.to_csv('coeficiente_pearson_OASI-Floresta')\n",
        "print(corr.head())\n",
        "\n",
        "#diagrama de correlacao\n",
        "plt.figure(figsize = (10,5))\n",
        "plt.imshow(corr, cmap = 'Blues', interpolation = 'none', aspect = 'auto')\n",
        "plt.colorbar()\n",
        "\n",
        "corr.columns = ['Umidade relativa (OASI)', 'Precipitação (mm) (OASI)', 'Precipitação (mm) (Floresta)', 'Umidade relativa (Floresta)', ]\n",
        "plt.xticks(range(len(corr)), corr.columns, rotation = 'vertical')\n",
        "plt.yticks(range(len(corr)), corr.columns)\n",
        "\n",
        "plt.savefig('correlacao_OASI-Floresta.png')\n",
        "plt.show()"
      ],
      "execution_count": null,
      "outputs": [
        {
          "output_type": "stream",
          "text": [
            "                 Hum (OASI)  Rain (OASI)  Rain (Floresta)  Hum (Floresta)\n",
            "Hum (OASI)         1.000000     0.230847         0.201362        0.326819\n",
            "Rain (OASI)        0.230847     1.000000         0.288256        0.150350\n",
            "Rain (Floresta)    0.201362     0.288256         1.000000        0.312086\n",
            "Hum (Floresta)     0.326819     0.150350         0.312086        1.000000\n"
          ],
          "name": "stdout"
        },
        {
          "output_type": "display_data",
          "data": {
            "image/png": "[encoded data removed]",
            "text/plain": [
              "<Figure size 720x360 with 2 Axes>"
            ]
          },
          "metadata": {
            "tags": [],
            "needs_background": "light"
          }
        }
      ]
    },
    {
      "cell_type": "markdown",
      "metadata": {
        "id": "WvDW3C5us2RW"
      },
      "source": [
        "### **Seeing 2019**"
      ]
    },
    {
      "cell_type": "code",
      "metadata": {
        "ExecuteTime": {
          "end_time": "2021-03-02T20:23:34.279849Z",
          "start_time": "2021-03-02T20:23:34.218948Z"
        },
        "id": "L6_-BfD2s2RW",
        "colab": {
          "base_uri": "https://localhost:8080/",
          "height": 206
        },
        "outputId": "e94660e9-c4c4-479e-dad8-d8c4e7bc857c"
      },
      "source": [
        "#seeing em 2019, imagens com 30s de exposicao\n",
        "seeing_30 = pd.read_csv('/content/seeing_30s.csv', usecols = ['DATE-OBS','SEEING'])\n",
        "\n",
        "seeing_30.columns = ['Datetime', 'Seeing']\n",
        "seeing_30.to_csv('seeing-data_30s_R')\n",
        "\n",
        "seeing_30.head()"
      ],
      "execution_count": null,
      "outputs": [
        {
          "output_type": "execute_result",
          "data": {
            "text/html": [
              "<div>\n",
              "<style scoped>\n",
              "    .dataframe tbody tr th:only-of-type {\n",
              "        vertical-align: middle;\n",
              "    }\n",
              "\n",
              "    .dataframe tbody tr th {\n",
              "        vertical-align: top;\n",
              "    }\n",
              "\n",
              "    .dataframe thead th {\n",
              "        text-align: right;\n",
              "    }\n",
              "</style>\n",
              "<table border=\"1\" class=\"dataframe\">\n",
              "  <thead>\n",
              "    <tr style=\"text-align: right;\">\n",
              "      <th></th>\n",
              "      <th>Datetime</th>\n",
              "      <th>Seeing</th>\n",
              "    </tr>\n",
              "  </thead>\n",
              "  <tbody>\n",
              "    <tr>\n",
              "      <th>0</th>\n",
              "      <td>2019-04-05T23:25:06</td>\n",
              "      <td>1.181833</td>\n",
              "    </tr>\n",
              "    <tr>\n",
              "      <th>1</th>\n",
              "      <td>2019-04-06T00:00:20</td>\n",
              "      <td>1.203707</td>\n",
              "    </tr>\n",
              "    <tr>\n",
              "      <th>2</th>\n",
              "      <td>2019-04-06T01:00:28</td>\n",
              "      <td>1.181152</td>\n",
              "    </tr>\n",
              "    <tr>\n",
              "      <th>3</th>\n",
              "      <td>2019-04-06T02:14:52</td>\n",
              "      <td>1.477593</td>\n",
              "    </tr>\n",
              "    <tr>\n",
              "      <th>4</th>\n",
              "      <td>2019-04-06T02:47:09</td>\n",
              "      <td>1.200506</td>\n",
              "    </tr>\n",
              "  </tbody>\n",
              "</table>\n",
              "</div>"
            ],
            "text/plain": [
              "              Datetime    Seeing\n",
              "0  2019-04-05T23:25:06  1.181833\n",
              "1  2019-04-06T00:00:20  1.203707\n",
              "2  2019-04-06T01:00:28  1.181152\n",
              "3  2019-04-06T02:14:52  1.477593\n",
              "4  2019-04-06T02:47:09  1.200506"
            ]
          },
          "metadata": {
            "tags": []
          },
          "execution_count": 76
        }
      ]
    },
    {
      "cell_type": "code",
      "metadata": {
        "ExecuteTime": {
          "end_time": "2021-03-02T20:23:34.406978Z",
          "start_time": "2021-03-02T20:23:34.286653Z"
        },
        "id": "slfAFNPUs2RX",
        "colab": {
          "base_uri": "https://localhost:8080/",
          "height": 206
        },
        "outputId": "0995b2ba-74f2-47e2-b85d-f7244b99f6d7"
      },
      "source": [
        "#seeing em 2019, imagens com 40s de exposicao\n",
        "seeing_40 = pd.read_csv('/content/seeing_40s.csv', usecols = ['DATE-OBS','SEEING'])\n",
        "\n",
        "seeing_40.columns = ['Datetime', 'Seeing']\n",
        "\n",
        "seeing_40.to_csv('seeing-data_40s_R')\n",
        "seeing_40.head()"
      ],
      "execution_count": null,
      "outputs": [
        {
          "output_type": "execute_result",
          "data": {
            "text/html": [
              "<div>\n",
              "<style scoped>\n",
              "    .dataframe tbody tr th:only-of-type {\n",
              "        vertical-align: middle;\n",
              "    }\n",
              "\n",
              "    .dataframe tbody tr th {\n",
              "        vertical-align: top;\n",
              "    }\n",
              "\n",
              "    .dataframe thead th {\n",
              "        text-align: right;\n",
              "    }\n",
              "</style>\n",
              "<table border=\"1\" class=\"dataframe\">\n",
              "  <thead>\n",
              "    <tr style=\"text-align: right;\">\n",
              "      <th></th>\n",
              "      <th>Datetime</th>\n",
              "      <th>Seeing</th>\n",
              "    </tr>\n",
              "  </thead>\n",
              "  <tbody>\n",
              "    <tr>\n",
              "      <th>0</th>\n",
              "      <td>2019-01-08T23:11:50</td>\n",
              "      <td>0.754727</td>\n",
              "    </tr>\n",
              "    <tr>\n",
              "      <th>1</th>\n",
              "      <td>2019-01-09T00:00:41</td>\n",
              "      <td>0.869891</td>\n",
              "    </tr>\n",
              "    <tr>\n",
              "      <th>2</th>\n",
              "      <td>2019-01-09T01:00:31</td>\n",
              "      <td>1.158670</td>\n",
              "    </tr>\n",
              "    <tr>\n",
              "      <th>3</th>\n",
              "      <td>2019-01-09T02:00:28</td>\n",
              "      <td>1.150532</td>\n",
              "    </tr>\n",
              "    <tr>\n",
              "      <th>4</th>\n",
              "      <td>2019-01-09T03:00:21</td>\n",
              "      <td>1.048416</td>\n",
              "    </tr>\n",
              "  </tbody>\n",
              "</table>\n",
              "</div>"
            ],
            "text/plain": [
              "              Datetime    Seeing\n",
              "0  2019-01-08T23:11:50  0.754727\n",
              "1  2019-01-09T00:00:41  0.869891\n",
              "2  2019-01-09T01:00:31  1.158670\n",
              "3  2019-01-09T02:00:28  1.150532\n",
              "4  2019-01-09T03:00:21  1.048416"
            ]
          },
          "metadata": {
            "tags": []
          },
          "execution_count": 77
        }
      ]
    },
    {
      "cell_type": "code",
      "metadata": {
        "ExecuteTime": {
          "end_time": "2021-03-02T20:23:34.520096Z",
          "start_time": "2021-03-02T20:23:34.413587Z"
        },
        "id": "zeRhOpVWs2RX"
      },
      "source": [
        "#transformando a coluna Datetime em objeto datetime do pandas para fazer o groupby\n",
        "seeing_30.Datetime = pd.to_datetime(seeing_30.Datetime)\n",
        "seeing_40.Datetime = pd.to_datetime(seeing_40.Datetime)"
      ],
      "execution_count": null,
      "outputs": []
    },
    {
      "cell_type": "code",
      "metadata": {
        "ExecuteTime": {
          "end_time": "2021-03-02T20:23:34.618597Z",
          "start_time": "2021-03-02T20:23:34.522687Z"
        },
        "id": "FRpO8afls2RY"
      },
      "source": [
        "#media diaria dos seeings em 2019 com 30 e 40s de tempo de exposicao\n",
        "seeing_30_diario = seeing_30.groupby(by = seeing_30.Datetime.dt.date).mean()\n",
        "seeing_40_diario = seeing_40.groupby(by = seeing_40.Datetime.dt.date).mean()\n",
        "\n",
        "\n",
        "seeing_30_diario.to_csv('seeing-data_diario_30s_R')\n",
        "seeing_40_diario.to_csv('seeing-data_diario_40s_R')"
      ],
      "execution_count": null,
      "outputs": []
    },
    {
      "cell_type": "code",
      "metadata": {
        "ExecuteTime": {
          "end_time": "2021-03-02T20:23:34.766030Z",
          "start_time": "2021-03-02T20:23:34.624106Z"
        },
        "id": "lItcVkO3s2RY",
        "colab": {
          "base_uri": "https://localhost:8080/",
          "height": 376
        },
        "outputId": "84ff83c1-f3b0-4d97-9c5a-b0e658792637"
      },
      "source": [
        "(seeing_30_diario.info())\n",
        "seeing_30_diario.head()"
      ],
      "execution_count": null,
      "outputs": [
        {
          "output_type": "stream",
          "text": [
            "<class 'pandas.core.frame.DataFrame'>\n",
            "Index: 25 entries, 2019-04-05 to 2019-12-04\n",
            "Data columns (total 1 columns):\n",
            " #   Column  Non-Null Count  Dtype  \n",
            "---  ------  --------------  -----  \n",
            " 0   Seeing  25 non-null     float64\n",
            "dtypes: float64(1)\n",
            "memory usage: 400.0+ bytes\n"
          ],
          "name": "stdout"
        },
        {
          "output_type": "execute_result",
          "data": {
            "text/html": [
              "<div>\n",
              "<style scoped>\n",
              "    .dataframe tbody tr th:only-of-type {\n",
              "        vertical-align: middle;\n",
              "    }\n",
              "\n",
              "    .dataframe tbody tr th {\n",
              "        vertical-align: top;\n",
              "    }\n",
              "\n",
              "    .dataframe thead th {\n",
              "        text-align: right;\n",
              "    }\n",
              "</style>\n",
              "<table border=\"1\" class=\"dataframe\">\n",
              "  <thead>\n",
              "    <tr style=\"text-align: right;\">\n",
              "      <th></th>\n",
              "      <th>Seeing</th>\n",
              "    </tr>\n",
              "    <tr>\n",
              "      <th>Datetime</th>\n",
              "      <th></th>\n",
              "    </tr>\n",
              "  </thead>\n",
              "  <tbody>\n",
              "    <tr>\n",
              "      <th>2019-04-05</th>\n",
              "      <td>1.181833</td>\n",
              "    </tr>\n",
              "    <tr>\n",
              "      <th>2019-04-06</th>\n",
              "      <td>1.265739</td>\n",
              "    </tr>\n",
              "    <tr>\n",
              "      <th>2019-04-08</th>\n",
              "      <td>1.123272</td>\n",
              "    </tr>\n",
              "    <tr>\n",
              "      <th>2019-07-05</th>\n",
              "      <td>1.401407</td>\n",
              "    </tr>\n",
              "    <tr>\n",
              "      <th>2019-07-06</th>\n",
              "      <td>1.157226</td>\n",
              "    </tr>\n",
              "  </tbody>\n",
              "</table>\n",
              "</div>"
            ],
            "text/plain": [
              "              Seeing\n",
              "Datetime            \n",
              "2019-04-05  1.181833\n",
              "2019-04-06  1.265739\n",
              "2019-04-08  1.123272\n",
              "2019-07-05  1.401407\n",
              "2019-07-06  1.157226"
            ]
          },
          "metadata": {
            "tags": []
          },
          "execution_count": 80
        }
      ]
    },
    {
      "cell_type": "code",
      "metadata": {
        "ExecuteTime": {
          "end_time": "2021-03-02T20:23:34.850857Z",
          "start_time": "2021-03-02T20:23:34.771606Z"
        },
        "id": "B318ZmjWs2RZ",
        "colab": {
          "base_uri": "https://localhost:8080/",
          "height": 376
        },
        "outputId": "f9dbf392-070e-4c94-a560-3463c5d0a2f9"
      },
      "source": [
        "(seeing_40_diario.info())\n",
        "seeing_40_diario.head()"
      ],
      "execution_count": null,
      "outputs": [
        {
          "output_type": "stream",
          "text": [
            "<class 'pandas.core.frame.DataFrame'>\n",
            "Index: 34 entries, 2019-01-08 to 2019-10-26\n",
            "Data columns (total 1 columns):\n",
            " #   Column  Non-Null Count  Dtype  \n",
            "---  ------  --------------  -----  \n",
            " 0   Seeing  34 non-null     float64\n",
            "dtypes: float64(1)\n",
            "memory usage: 544.0+ bytes\n"
          ],
          "name": "stdout"
        },
        {
          "output_type": "execute_result",
          "data": {
            "text/html": [
              "<div>\n",
              "<style scoped>\n",
              "    .dataframe tbody tr th:only-of-type {\n",
              "        vertical-align: middle;\n",
              "    }\n",
              "\n",
              "    .dataframe tbody tr th {\n",
              "        vertical-align: top;\n",
              "    }\n",
              "\n",
              "    .dataframe thead th {\n",
              "        text-align: right;\n",
              "    }\n",
              "</style>\n",
              "<table border=\"1\" class=\"dataframe\">\n",
              "  <thead>\n",
              "    <tr style=\"text-align: right;\">\n",
              "      <th></th>\n",
              "      <th>Seeing</th>\n",
              "    </tr>\n",
              "    <tr>\n",
              "      <th>Datetime</th>\n",
              "      <th></th>\n",
              "    </tr>\n",
              "  </thead>\n",
              "  <tbody>\n",
              "    <tr>\n",
              "      <th>2019-01-08</th>\n",
              "      <td>0.754727</td>\n",
              "    </tr>\n",
              "    <tr>\n",
              "      <th>2019-01-09</th>\n",
              "      <td>1.067362</td>\n",
              "    </tr>\n",
              "    <tr>\n",
              "      <th>2019-01-10</th>\n",
              "      <td>0.899092</td>\n",
              "    </tr>\n",
              "    <tr>\n",
              "      <th>2019-01-11</th>\n",
              "      <td>1.047945</td>\n",
              "    </tr>\n",
              "    <tr>\n",
              "      <th>2019-01-13</th>\n",
              "      <td>1.222681</td>\n",
              "    </tr>\n",
              "  </tbody>\n",
              "</table>\n",
              "</div>"
            ],
            "text/plain": [
              "              Seeing\n",
              "Datetime            \n",
              "2019-01-08  0.754727\n",
              "2019-01-09  1.067362\n",
              "2019-01-10  0.899092\n",
              "2019-01-11  1.047945\n",
              "2019-01-13  1.222681"
            ]
          },
          "metadata": {
            "tags": []
          },
          "execution_count": 81
        }
      ]
    },
    {
      "cell_type": "markdown",
      "metadata": {
        "id": "5K1WJ6W5s2RZ"
      },
      "source": [
        "### **Seeing 2011-2018 (Rondon et al 2020)**"
      ]
    },
    {
      "cell_type": "code",
      "metadata": {
        "ExecuteTime": {
          "end_time": "2021-03-02T20:23:35.466311Z",
          "start_time": "2021-03-02T20:23:34.853350Z"
        },
        "id": "QKaoMjpos2Ra",
        "colab": {
          "base_uri": "https://localhost:8080/",
          "height": 380
        },
        "outputId": "cfba1ab7-231e-40af-a5a2-b4f3c16dfa49"
      },
      "source": [
        "seeing_OASI = pd.read_csv('/content/FWHMTotal_Total_Prueba.txt', delim_whitespace = True,\n",
        "                               names = ['Datetime', '?', 'Objeto', 'FWHM', 'Seeing'])\n",
        "\n",
        "del seeing_OASI['?']\n",
        "del seeing_OASI['Objeto']\n",
        "del seeing_OASI['FWHM']\n",
        "\n",
        "seeing_OASI.to_csv('seeing_OASI_2011-2018')\n",
        "\n",
        "print(seeing_OASI.info())\n",
        "seeing_OASI.head()"
      ],
      "execution_count": null,
      "outputs": [
        {
          "output_type": "stream",
          "text": [
            "<class 'pandas.core.frame.DataFrame'>\n",
            "RangeIndex: 22078 entries, 0 to 22077\n",
            "Data columns (total 2 columns):\n",
            " #   Column    Non-Null Count  Dtype  \n",
            "---  ------    --------------  -----  \n",
            " 0   Datetime  22078 non-null  object \n",
            " 1   Seeing    22078 non-null  float64\n",
            "dtypes: float64(1), object(1)\n",
            "memory usage: 345.1+ KB\n",
            "None\n"
          ],
          "name": "stdout"
        },
        {
          "output_type": "execute_result",
          "data": {
            "text/html": [
              "<div>\n",
              "<style scoped>\n",
              "    .dataframe tbody tr th:only-of-type {\n",
              "        vertical-align: middle;\n",
              "    }\n",
              "\n",
              "    .dataframe tbody tr th {\n",
              "        vertical-align: top;\n",
              "    }\n",
              "\n",
              "    .dataframe thead th {\n",
              "        text-align: right;\n",
              "    }\n",
              "</style>\n",
              "<table border=\"1\" class=\"dataframe\">\n",
              "  <thead>\n",
              "    <tr style=\"text-align: right;\">\n",
              "      <th></th>\n",
              "      <th>Datetime</th>\n",
              "      <th>Seeing</th>\n",
              "    </tr>\n",
              "  </thead>\n",
              "  <tbody>\n",
              "    <tr>\n",
              "      <th>0</th>\n",
              "      <td>2011-05-12T01:14:37</td>\n",
              "      <td>1.503684</td>\n",
              "    </tr>\n",
              "    <tr>\n",
              "      <th>1</th>\n",
              "      <td>2011-05-12T01:15:10</td>\n",
              "      <td>1.487708</td>\n",
              "    </tr>\n",
              "    <tr>\n",
              "      <th>2</th>\n",
              "      <td>2011-05-12T01:15:43</td>\n",
              "      <td>1.519978</td>\n",
              "    </tr>\n",
              "    <tr>\n",
              "      <th>3</th>\n",
              "      <td>2011-05-12T01:16:16</td>\n",
              "      <td>1.474059</td>\n",
              "    </tr>\n",
              "    <tr>\n",
              "      <th>4</th>\n",
              "      <td>2011-05-12T01:16:49</td>\n",
              "      <td>1.568380</td>\n",
              "    </tr>\n",
              "  </tbody>\n",
              "</table>\n",
              "</div>"
            ],
            "text/plain": [
              "              Datetime    Seeing\n",
              "0  2011-05-12T01:14:37  1.503684\n",
              "1  2011-05-12T01:15:10  1.487708\n",
              "2  2011-05-12T01:15:43  1.519978\n",
              "3  2011-05-12T01:16:16  1.474059\n",
              "4  2011-05-12T01:16:49  1.568380"
            ]
          },
          "metadata": {
            "tags": []
          },
          "execution_count": 82
        }
      ]
    },
    {
      "cell_type": "code",
      "metadata": {
        "ExecuteTime": {
          "end_time": "2021-03-02T20:23:35.499934Z",
          "start_time": "2021-03-02T20:23:35.475328Z"
        },
        "scrolled": false,
        "id": "q2B6n2hTs2Rb",
        "colab": {
          "base_uri": "https://localhost:8080/"
        },
        "outputId": "eb8a14f3-5897-425f-eb8e-f22b95fe30b4"
      },
      "source": [
        "seeing_OASI.Datetime = pd.to_datetime(seeing_OASI.Datetime)\n",
        "\n",
        "seeing_OASI.info()"
      ],
      "execution_count": null,
      "outputs": [
        {
          "output_type": "stream",
          "text": [
            "<class 'pandas.core.frame.DataFrame'>\n",
            "RangeIndex: 22078 entries, 0 to 22077\n",
            "Data columns (total 2 columns):\n",
            " #   Column    Non-Null Count  Dtype         \n",
            "---  ------    --------------  -----         \n",
            " 0   Datetime  22078 non-null  datetime64[ns]\n",
            " 1   Seeing    22078 non-null  float64       \n",
            "dtypes: datetime64[ns](1), float64(1)\n",
            "memory usage: 345.1 KB\n"
          ],
          "name": "stdout"
        }
      ]
    },
    {
      "cell_type": "code",
      "metadata": {
        "ExecuteTime": {
          "end_time": "2021-03-02T20:23:35.597775Z",
          "start_time": "2021-03-02T20:23:35.502300Z"
        },
        "id": "wMLaescXs2Rd",
        "colab": {
          "base_uri": "https://localhost:8080/",
          "height": 237
        },
        "outputId": "fa0e2b15-2dec-4c80-b271-eecc7fd9a2b5"
      },
      "source": [
        "seeing_OASI_diario = seeing_OASI.groupby(by = seeing_OASI.Datetime.dt.date).mean()\n",
        "seeing_OASI_diario.head()"
      ],
      "execution_count": null,
      "outputs": [
        {
          "output_type": "execute_result",
          "data": {
            "text/html": [
              "<div>\n",
              "<style scoped>\n",
              "    .dataframe tbody tr th:only-of-type {\n",
              "        vertical-align: middle;\n",
              "    }\n",
              "\n",
              "    .dataframe tbody tr th {\n",
              "        vertical-align: top;\n",
              "    }\n",
              "\n",
              "    .dataframe thead th {\n",
              "        text-align: right;\n",
              "    }\n",
              "</style>\n",
              "<table border=\"1\" class=\"dataframe\">\n",
              "  <thead>\n",
              "    <tr style=\"text-align: right;\">\n",
              "      <th></th>\n",
              "      <th>Seeing</th>\n",
              "    </tr>\n",
              "    <tr>\n",
              "      <th>Datetime</th>\n",
              "      <th></th>\n",
              "    </tr>\n",
              "  </thead>\n",
              "  <tbody>\n",
              "    <tr>\n",
              "      <th>2011-05-12</th>\n",
              "      <td>1.496963</td>\n",
              "    </tr>\n",
              "    <tr>\n",
              "      <th>2011-06-24</th>\n",
              "      <td>0.954734</td>\n",
              "    </tr>\n",
              "    <tr>\n",
              "      <th>2011-06-25</th>\n",
              "      <td>0.907572</td>\n",
              "    </tr>\n",
              "    <tr>\n",
              "      <th>2011-06-27</th>\n",
              "      <td>2.034281</td>\n",
              "    </tr>\n",
              "    <tr>\n",
              "      <th>2011-06-28</th>\n",
              "      <td>0.917489</td>\n",
              "    </tr>\n",
              "  </tbody>\n",
              "</table>\n",
              "</div>"
            ],
            "text/plain": [
              "              Seeing\n",
              "Datetime            \n",
              "2011-05-12  1.496963\n",
              "2011-06-24  0.954734\n",
              "2011-06-25  0.907572\n",
              "2011-06-27  2.034281\n",
              "2011-06-28  0.917489"
            ]
          },
          "metadata": {
            "tags": []
          },
          "execution_count": 84
        }
      ]
    },
    {
      "cell_type": "code",
      "metadata": {
        "ExecuteTime": {
          "end_time": "2021-03-02T20:23:35.692862Z",
          "start_time": "2021-03-02T20:23:35.601145Z"
        },
        "id": "5Rw50dJHs2Re",
        "colab": {
          "base_uri": "https://localhost:8080/",
          "height": 380
        },
        "outputId": "dfb21b8d-0cf3-4ab8-dcad-e8b838a5bdb3"
      },
      "source": [
        "seeing_OASI_diario = seeing_OASI_diario.reset_index()\n",
        "\n",
        "seeing_OASI_diario.Datetime = pd.to_datetime(seeing_OASI_diario.Datetime)\n",
        "print(seeing_OASI_diario.info())\n",
        "\n",
        "seeing_OASI_diario.to_csv('seeing_data_OASI')\n",
        "\n",
        "seeing_OASI_diario.head()"
      ],
      "execution_count": null,
      "outputs": [
        {
          "output_type": "stream",
          "text": [
            "<class 'pandas.core.frame.DataFrame'>\n",
            "RangeIndex: 230 entries, 0 to 229\n",
            "Data columns (total 2 columns):\n",
            " #   Column    Non-Null Count  Dtype         \n",
            "---  ------    --------------  -----         \n",
            " 0   Datetime  230 non-null    datetime64[ns]\n",
            " 1   Seeing    230 non-null    float64       \n",
            "dtypes: datetime64[ns](1), float64(1)\n",
            "memory usage: 3.7 KB\n",
            "None\n"
          ],
          "name": "stdout"
        },
        {
          "output_type": "execute_result",
          "data": {
            "text/html": [
              "<div>\n",
              "<style scoped>\n",
              "    .dataframe tbody tr th:only-of-type {\n",
              "        vertical-align: middle;\n",
              "    }\n",
              "\n",
              "    .dataframe tbody tr th {\n",
              "        vertical-align: top;\n",
              "    }\n",
              "\n",
              "    .dataframe thead th {\n",
              "        text-align: right;\n",
              "    }\n",
              "</style>\n",
              "<table border=\"1\" class=\"dataframe\">\n",
              "  <thead>\n",
              "    <tr style=\"text-align: right;\">\n",
              "      <th></th>\n",
              "      <th>Datetime</th>\n",
              "      <th>Seeing</th>\n",
              "    </tr>\n",
              "  </thead>\n",
              "  <tbody>\n",
              "    <tr>\n",
              "      <th>0</th>\n",
              "      <td>2011-05-12</td>\n",
              "      <td>1.496963</td>\n",
              "    </tr>\n",
              "    <tr>\n",
              "      <th>1</th>\n",
              "      <td>2011-06-24</td>\n",
              "      <td>0.954734</td>\n",
              "    </tr>\n",
              "    <tr>\n",
              "      <th>2</th>\n",
              "      <td>2011-06-25</td>\n",
              "      <td>0.907572</td>\n",
              "    </tr>\n",
              "    <tr>\n",
              "      <th>3</th>\n",
              "      <td>2011-06-27</td>\n",
              "      <td>2.034281</td>\n",
              "    </tr>\n",
              "    <tr>\n",
              "      <th>4</th>\n",
              "      <td>2011-06-28</td>\n",
              "      <td>0.917489</td>\n",
              "    </tr>\n",
              "  </tbody>\n",
              "</table>\n",
              "</div>"
            ],
            "text/plain": [
              "    Datetime    Seeing\n",
              "0 2011-05-12  1.496963\n",
              "1 2011-06-24  0.954734\n",
              "2 2011-06-25  0.907572\n",
              "3 2011-06-27  2.034281\n",
              "4 2011-06-28  0.917489"
            ]
          },
          "metadata": {
            "tags": []
          },
          "execution_count": 85
        }
      ]
    },
    {
      "cell_type": "markdown",
      "metadata": {
        "id": "mqH8Ovfts2Re"
      },
      "source": [
        "### **Dados meteorologicos + seeing**"
      ]
    },
    {
      "cell_type": "code",
      "metadata": {
        "ExecuteTime": {
          "end_time": "2021-03-02T20:23:35.796796Z",
          "start_time": "2021-03-02T20:23:35.695632Z"
        },
        "id": "mqj3pLMps2Re",
        "colab": {
          "base_uri": "https://localhost:8080/",
          "height": 397
        },
        "outputId": "ac37537a-2207-4711-c40d-63136656cb42"
      },
      "source": [
        "print(dados_dia.info())\n",
        "dados_dia.head()"
      ],
      "execution_count": null,
      "outputs": [
        {
          "output_type": "stream",
          "text": [
            "<class 'pandas.core.frame.DataFrame'>\n",
            "RangeIndex: 200 entries, 0 to 199\n",
            "Data columns (total 3 columns):\n",
            " #   Column       Non-Null Count  Dtype         \n",
            "---  ------       --------------  -----         \n",
            " 0   Datetime     200 non-null    datetime64[ns]\n",
            " 1   Hum (OASI)   200 non-null    float64       \n",
            " 2   Rain (OASI)  200 non-null    float64       \n",
            "dtypes: datetime64[ns](1), float64(2)\n",
            "memory usage: 4.8 KB\n",
            "None\n"
          ],
          "name": "stdout"
        },
        {
          "output_type": "execute_result",
          "data": {
            "text/html": [
              "<div>\n",
              "<style scoped>\n",
              "    .dataframe tbody tr th:only-of-type {\n",
              "        vertical-align: middle;\n",
              "    }\n",
              "\n",
              "    .dataframe tbody tr th {\n",
              "        vertical-align: top;\n",
              "    }\n",
              "\n",
              "    .dataframe thead th {\n",
              "        text-align: right;\n",
              "    }\n",
              "</style>\n",
              "<table border=\"1\" class=\"dataframe\">\n",
              "  <thead>\n",
              "    <tr style=\"text-align: right;\">\n",
              "      <th></th>\n",
              "      <th>Datetime</th>\n",
              "      <th>Hum (OASI)</th>\n",
              "      <th>Rain (OASI)</th>\n",
              "    </tr>\n",
              "  </thead>\n",
              "  <tbody>\n",
              "    <tr>\n",
              "      <th>0</th>\n",
              "      <td>2014-09-03</td>\n",
              "      <td>19.632025</td>\n",
              "      <td>0.0</td>\n",
              "    </tr>\n",
              "    <tr>\n",
              "      <th>1</th>\n",
              "      <td>2014-09-04</td>\n",
              "      <td>18.822053</td>\n",
              "      <td>0.0</td>\n",
              "    </tr>\n",
              "    <tr>\n",
              "      <th>2</th>\n",
              "      <td>2014-09-05</td>\n",
              "      <td>17.611506</td>\n",
              "      <td>0.0</td>\n",
              "    </tr>\n",
              "    <tr>\n",
              "      <th>3</th>\n",
              "      <td>2014-09-06</td>\n",
              "      <td>17.684167</td>\n",
              "      <td>0.0</td>\n",
              "    </tr>\n",
              "    <tr>\n",
              "      <th>4</th>\n",
              "      <td>2014-09-07</td>\n",
              "      <td>17.304258</td>\n",
              "      <td>0.0</td>\n",
              "    </tr>\n",
              "  </tbody>\n",
              "</table>\n",
              "</div>"
            ],
            "text/plain": [
              "    Datetime  Hum (OASI)  Rain (OASI)\n",
              "0 2014-09-03   19.632025          0.0\n",
              "1 2014-09-04   18.822053          0.0\n",
              "2 2014-09-05   17.611506          0.0\n",
              "3 2014-09-06   17.684167          0.0\n",
              "4 2014-09-07   17.304258          0.0"
            ]
          },
          "metadata": {
            "tags": []
          },
          "execution_count": 86
        }
      ]
    },
    {
      "cell_type": "code",
      "metadata": {
        "ExecuteTime": {
          "end_time": "2021-03-02T20:23:35.974186Z",
          "start_time": "2021-03-02T20:23:35.798999Z"
        },
        "id": "-pZxzeAZs2Rf",
        "colab": {
          "base_uri": "https://localhost:8080/",
          "height": 414
        },
        "outputId": "97f5ca38-749c-497c-cc3f-6f7800d1694c"
      },
      "source": [
        "df_meteo_seeing = seeing_OASI_diario.merge(dados_dia, on = 'Datetime')\n",
        "df_meteo_seeing.to_csv('seeing_dados-meteor_OASI')\n",
        "\n",
        "print(df_meteo_seeing.info())\n",
        "df_meteo_seeing.head()"
      ],
      "execution_count": null,
      "outputs": [
        {
          "output_type": "stream",
          "text": [
            "<class 'pandas.core.frame.DataFrame'>\n",
            "Int64Index: 20 entries, 0 to 19\n",
            "Data columns (total 4 columns):\n",
            " #   Column       Non-Null Count  Dtype         \n",
            "---  ------       --------------  -----         \n",
            " 0   Datetime     20 non-null     datetime64[ns]\n",
            " 1   Seeing       20 non-null     float64       \n",
            " 2   Hum (OASI)   20 non-null     float64       \n",
            " 3   Rain (OASI)  20 non-null     float64       \n",
            "dtypes: datetime64[ns](1), float64(3)\n",
            "memory usage: 800.0 bytes\n",
            "None\n"
          ],
          "name": "stdout"
        },
        {
          "output_type": "execute_result",
          "data": {
            "text/html": [
              "<div>\n",
              "<style scoped>\n",
              "    .dataframe tbody tr th:only-of-type {\n",
              "        vertical-align: middle;\n",
              "    }\n",
              "\n",
              "    .dataframe tbody tr th {\n",
              "        vertical-align: top;\n",
              "    }\n",
              "\n",
              "    .dataframe thead th {\n",
              "        text-align: right;\n",
              "    }\n",
              "</style>\n",
              "<table border=\"1\" class=\"dataframe\">\n",
              "  <thead>\n",
              "    <tr style=\"text-align: right;\">\n",
              "      <th></th>\n",
              "      <th>Datetime</th>\n",
              "      <th>Seeing</th>\n",
              "      <th>Hum (OASI)</th>\n",
              "      <th>Rain (OASI)</th>\n",
              "    </tr>\n",
              "  </thead>\n",
              "  <tbody>\n",
              "    <tr>\n",
              "      <th>0</th>\n",
              "      <td>2014-09-03</td>\n",
              "      <td>1.092224</td>\n",
              "      <td>19.632025</td>\n",
              "      <td>0.0</td>\n",
              "    </tr>\n",
              "    <tr>\n",
              "      <th>1</th>\n",
              "      <td>2014-09-04</td>\n",
              "      <td>1.698317</td>\n",
              "      <td>18.822053</td>\n",
              "      <td>0.0</td>\n",
              "    </tr>\n",
              "    <tr>\n",
              "      <th>2</th>\n",
              "      <td>2015-03-14</td>\n",
              "      <td>0.859240</td>\n",
              "      <td>21.475000</td>\n",
              "      <td>0.0</td>\n",
              "    </tr>\n",
              "    <tr>\n",
              "      <th>3</th>\n",
              "      <td>2015-04-13</td>\n",
              "      <td>2.041861</td>\n",
              "      <td>20.785740</td>\n",
              "      <td>0.0</td>\n",
              "    </tr>\n",
              "    <tr>\n",
              "      <th>4</th>\n",
              "      <td>2015-04-14</td>\n",
              "      <td>1.034545</td>\n",
              "      <td>20.382462</td>\n",
              "      <td>0.0</td>\n",
              "    </tr>\n",
              "  </tbody>\n",
              "</table>\n",
              "</div>"
            ],
            "text/plain": [
              "    Datetime    Seeing  Hum (OASI)  Rain (OASI)\n",
              "0 2014-09-03  1.092224   19.632025          0.0\n",
              "1 2014-09-04  1.698317   18.822053          0.0\n",
              "2 2015-03-14  0.859240   21.475000          0.0\n",
              "3 2015-04-13  2.041861   20.785740          0.0\n",
              "4 2015-04-14  1.034545   20.382462          0.0"
            ]
          },
          "metadata": {
            "tags": []
          },
          "execution_count": 111
        }
      ]
    },
    {
      "cell_type": "code",
      "metadata": {
        "ExecuteTime": {
          "end_time": "2021-03-02T20:23:36.018405Z",
          "start_time": "2021-03-02T20:23:35.977436Z"
        },
        "id": "r45iinYMs2Rg"
      },
      "source": [
        "df_meteo_seeing.columns = ['Datetime', 'Seeing', 'Umidade', 'Precipitção']"
      ],
      "execution_count": null,
      "outputs": []
    },
    {
      "cell_type": "code",
      "metadata": {
        "id": "r2Am3GhHQnsF"
      },
      "source": [
        "umidade_16_17 = df_meteo_seeing.loc[(df_meteo_seeing['Umidade'] > 16) & (df_meteo_seeing['Umidade'] <= 17)]\n",
        "#umidade_16_17.set_index('Datetime', inplace = True)\n",
        "\n",
        "umidade_17_18 = df_meteo_seeing.loc[(df_meteo_seeing['Umidade'] > 17) & (df_meteo_seeing['Umidade'] <= 18)]\n",
        "#umidade_17_18.set_index('Datetime', inplace = True)\n",
        "\n",
        "umidade_18_19 = df_meteo_seeing.loc[(df_meteo_seeing['Umidade'] > 18) & (df_meteo_seeing['Umidade'] <= 19)]\n",
        "#umidade_18_19.set_index('Datetime', inplace = True)\n",
        "\n",
        "umidade_19_20 = df_meteo_seeing.loc[(df_meteo_seeing['Umidade'] > 19) & (df_meteo_seeing['Umidade'] <= 20)]\n",
        "#umidade_19_20.set_index('Datetime', inplace = True)\n",
        "\n",
        "umidade_20_21 = df_meteo_seeing.loc[(df_meteo_seeing['Umidade'] > 20) & (df_meteo_seeing['Umidade'] <= 21)]\n",
        "#umidade_20_21.set_index('Datetime', inplace = True)\n",
        "\n",
        "umidade_21 = df_meteo_seeing.loc[(df_meteo_seeing['Umidade'] > 21)]\n",
        "#umidade_21.set_index('Datetime', inplace = True)"
      ],
      "execution_count": null,
      "outputs": []
    },
    {
      "cell_type": "code",
      "metadata": {
        "colab": {
          "base_uri": "https://localhost:8080/",
          "height": 494
        },
        "id": "A9LkHlsjRMdI",
        "outputId": "9a3b51ae-90b9-4f86-ce55-e30066cfccb0"
      },
      "source": [
        "plt.figure(figsize = (11,7))\n",
        "\n",
        "\n",
        "#plt.scatter(list(df_meteo_seeing['Datetime'].astype('str')), list(df_meteo_seeing['Seeing']))\n",
        "\n",
        "\n",
        "plt.scatter(x = list(umidade_16_17['Seeing'].index.values), y = umidade_16_17['Seeing'],\n",
        "            label = r'16 $\\leq$ Umidade $\\leq$ 17')\n",
        "\n",
        "plt.scatter(x = list(umidade_17_18['Seeing'].index.values),\n",
        "            y = umidade_17_18['Seeing'], label = r'17 < Umidade $\\leq$ 18')\n",
        "\n",
        "plt.scatter(x = list(umidade_18_19['Seeing'].index.values),\n",
        "            y = umidade_18_19['Seeing'], label = r'18 < Umidade $\\leq$ 19')\n",
        "\n",
        "plt.scatter(x = list(umidade_19_20['Seeing'].index.values),\n",
        "            y = umidade_19_20['Seeing'], label = r'19 < Umidade $\\leq$ 20')\n",
        "\n",
        "plt.scatter(x = list(umidade_20_21['Seeing'].index.values),\n",
        "            y = umidade_20_21['Seeing'], label = r'20 < Umidade $\\leq$ 21')\n",
        "\n",
        "plt.scatter(x = list(umidade_21['Seeing'].index.values), y = umidade_21['Seeing'], label = r'Umidade $\\geq$ 21')\n",
        "\n",
        "\n",
        "A0 = ['2014-09-03', '2014-09-04', '2015-03-14', '2015-04-13',\n",
        "      '2015-04-14', '2015-09-13', '2015-09-14', '2015-10-15',\n",
        "      '2015-10-16', '2015-10-17', '2015-11-15', '2016-11-28',\n",
        "      '2016-11-29', '2016-12-04', '2017-01-31', '2017-02-01',\n",
        "      '2018-01-16', '2018-01-22', '2018-06-12', '2018-06-13']\n",
        "#sns.scatterplot(data = df_meteo_seeing, x = A0, y = 'Seeing', hue = 'Umidade', hue_norm = (16,21), legend = 'brief', palette = 'deep')\n",
        "\n",
        "plt.xticks(ticks = np.arange(20), labels = A0, rotation = 90)\n",
        "plt.ylabel('Seeing (\")', size = 13)\n",
        "plt.xlabel(\"Tempo de Observação\", size = 13)\n",
        "plt.legend(loc = 'center right')\n",
        "plt.savefig('seeing_dados-meteorxtempo.png')"
      ],
      "execution_count": null,
      "outputs": [
        {
          "output_type": "display_data",
          "data": {
            "image/png": "[encoded data removed]",
            "text/plain": [
              "<Figure size 792x504 with 1 Axes>"
            ]
          },
          "metadata": {
            "tags": [],
            "needs_background": "light"
          }
        }
      ]
    },
    {
      "cell_type": "markdown",
      "metadata": {
        "id": "sduXSr78s2Rj"
      },
      "source": [
        "### **Seeing 2011-2019**"
      ]
    },
    {
      "cell_type": "code",
      "metadata": {
        "ExecuteTime": {
          "end_time": "2021-03-02T20:24:40.878317Z",
          "start_time": "2021-03-02T20:24:40.845838Z"
        },
        "id": "caJNe-Zis2Rk",
        "colab": {
          "base_uri": "https://localhost:8080/"
        },
        "outputId": "7d00dc11-abca-4d32-b5a6-694c89a06703"
      },
      "source": [
        "seeing_OASI_diario.head()"
      ],
      "execution_count": null,
      "outputs": [
        {
          "output_type": "execute_result",
          "data": {
            "text/html": [
              "<div>\n",
              "<style scoped>\n",
              "    .dataframe tbody tr th:only-of-type {\n",
              "        vertical-align: middle;\n",
              "    }\n",
              "\n",
              "    .dataframe tbody tr th {\n",
              "        vertical-align: top;\n",
              "    }\n",
              "\n",
              "    .dataframe thead th {\n",
              "        text-align: right;\n",
              "    }\n",
              "</style>\n",
              "<table border=\"1\" class=\"dataframe\">\n",
              "  <thead>\n",
              "    <tr style=\"text-align: right;\">\n",
              "      <th></th>\n",
              "      <th>Datetime</th>\n",
              "      <th>Seeing</th>\n",
              "    </tr>\n",
              "  </thead>\n",
              "  <tbody>\n",
              "    <tr>\n",
              "      <th>0</th>\n",
              "      <td>2011-05-12</td>\n",
              "      <td>1.496963</td>\n",
              "    </tr>\n",
              "    <tr>\n",
              "      <th>1</th>\n",
              "      <td>2011-06-24</td>\n",
              "      <td>0.954734</td>\n",
              "    </tr>\n",
              "    <tr>\n",
              "      <th>2</th>\n",
              "      <td>2011-06-25</td>\n",
              "      <td>0.907572</td>\n",
              "    </tr>\n",
              "    <tr>\n",
              "      <th>3</th>\n",
              "      <td>2011-06-27</td>\n",
              "      <td>2.034281</td>\n",
              "    </tr>\n",
              "    <tr>\n",
              "      <th>4</th>\n",
              "      <td>2011-06-28</td>\n",
              "      <td>0.917489</td>\n",
              "    </tr>\n",
              "  </tbody>\n",
              "</table>\n",
              "</div>"
            ],
            "text/plain": [
              "    Datetime    Seeing\n",
              "0 2011-05-12  1.496963\n",
              "1 2011-06-24  0.954734\n",
              "2 2011-06-25  0.907572\n",
              "3 2011-06-27  2.034281\n",
              "4 2011-06-28  0.917489"
            ]
          },
          "metadata": {
            "tags": []
          },
          "execution_count": 92
        }
      ]
    },
    {
      "cell_type": "code",
      "metadata": {
        "ExecuteTime": {
          "end_time": "2021-03-02T20:24:40.953175Z",
          "start_time": "2021-03-02T20:24:40.888212Z"
        },
        "id": "wJcn5NuGs2Rk",
        "colab": {
          "base_uri": "https://localhost:8080/"
        },
        "outputId": "f7915b30-de21-48bb-b1ca-f10f55c0e99b"
      },
      "source": [
        "seeing_OASI_diario.dtypes"
      ],
      "execution_count": null,
      "outputs": [
        {
          "output_type": "execute_result",
          "data": {
            "text/plain": [
              "Datetime    datetime64[ns]\n",
              "Seeing             float64\n",
              "dtype: object"
            ]
          },
          "metadata": {
            "tags": []
          },
          "execution_count": 93
        }
      ]
    },
    {
      "cell_type": "code",
      "metadata": {
        "ExecuteTime": {
          "end_time": "2021-03-02T20:24:41.034099Z",
          "start_time": "2021-03-02T20:24:40.961384Z"
        },
        "id": "R8gMutBZs2Rm"
      },
      "source": [
        "seeing_30_diario.reset_index(inplace = True)\n",
        "seeing_40_diario.reset_index(inplace = True)"
      ],
      "execution_count": null,
      "outputs": []
    },
    {
      "cell_type": "code",
      "metadata": {
        "ExecuteTime": {
          "end_time": "2021-03-02T20:24:41.103244Z",
          "start_time": "2021-03-02T20:24:41.036872Z"
        },
        "id": "9vwUammCs2Rm"
      },
      "source": [
        "seeing_30_diario.Datetime = pd.to_datetime(seeing_30_diario.Datetime)\n",
        "seeing_40_diario.Datetime = pd.to_datetime(seeing_40_diario.Datetime)"
      ],
      "execution_count": null,
      "outputs": []
    },
    {
      "cell_type": "code",
      "metadata": {
        "ExecuteTime": {
          "end_time": "2021-03-02T20:24:41.296630Z",
          "start_time": "2021-03-02T20:24:41.107034Z"
        },
        "id": "9LHcQhwHs2Rm",
        "colab": {
          "base_uri": "https://localhost:8080/"
        },
        "outputId": "b1549277-fb7e-4919-d79a-39977500c942"
      },
      "source": [
        "print(seeing_30_diario.head())\n",
        "seeing_30_diario.dtypes"
      ],
      "execution_count": null,
      "outputs": [
        {
          "output_type": "stream",
          "text": [
            "    Datetime    Seeing\n",
            "0 2019-04-05  1.181833\n",
            "1 2019-04-06  1.265739\n",
            "2 2019-04-08  1.123272\n",
            "3 2019-07-05  1.401407\n",
            "4 2019-07-06  1.157226\n"
          ],
          "name": "stdout"
        },
        {
          "output_type": "execute_result",
          "data": {
            "text/plain": [
              "Datetime    datetime64[ns]\n",
              "Seeing             float64\n",
              "dtype: object"
            ]
          },
          "metadata": {
            "tags": []
          },
          "execution_count": 96
        }
      ]
    },
    {
      "cell_type": "code",
      "metadata": {
        "ExecuteTime": {
          "end_time": "2021-03-02T20:24:41.770566Z",
          "start_time": "2021-03-02T20:24:41.300396Z"
        },
        "id": "_HLjkhPYs2Rm",
        "colab": {
          "base_uri": "https://localhost:8080/"
        },
        "outputId": "659f304f-449d-4f3b-9d63-57b4b2fbfd79"
      },
      "source": [
        "print(seeing_40_diario.head())\n",
        "seeing_40_diario.dtypes"
      ],
      "execution_count": null,
      "outputs": [
        {
          "output_type": "stream",
          "text": [
            "    Datetime    Seeing\n",
            "0 2019-01-08  0.754727\n",
            "1 2019-01-09  1.067362\n",
            "2 2019-01-10  0.899092\n",
            "3 2019-01-11  1.047945\n",
            "4 2019-01-13  1.222681\n"
          ],
          "name": "stdout"
        },
        {
          "output_type": "execute_result",
          "data": {
            "text/plain": [
              "Datetime    datetime64[ns]\n",
              "Seeing             float64\n",
              "dtype: object"
            ]
          },
          "metadata": {
            "tags": []
          },
          "execution_count": 97
        }
      ]
    },
    {
      "cell_type": "code",
      "metadata": {
        "ExecuteTime": {
          "end_time": "2021-03-02T20:24:43.375106Z",
          "start_time": "2021-03-02T20:24:42.838520Z"
        },
        "id": "OOLEM8Ats2Ro",
        "colab": {
          "base_uri": "https://localhost:8080/"
        },
        "outputId": "58491422-a3f5-4a31-c800-37bbb97bcdb6"
      },
      "source": [
        "df_seeing_2011_2019 = pd.concat([seeing_OASI_diario,seeing_30_diario, seeing_40_diario], axis = 0, ignore_index=False)\n",
        "\n",
        "df_seeing_2011_2019.to_csv('seeing_OASI_2011-2019')\n",
        "df_seeing_2011_2019.head()"
      ],
      "execution_count": null,
      "outputs": [
        {
          "output_type": "execute_result",
          "data": {
            "text/html": [
              "<div>\n",
              "<style scoped>\n",
              "    .dataframe tbody tr th:only-of-type {\n",
              "        vertical-align: middle;\n",
              "    }\n",
              "\n",
              "    .dataframe tbody tr th {\n",
              "        vertical-align: top;\n",
              "    }\n",
              "\n",
              "    .dataframe thead th {\n",
              "        text-align: right;\n",
              "    }\n",
              "</style>\n",
              "<table border=\"1\" class=\"dataframe\">\n",
              "  <thead>\n",
              "    <tr style=\"text-align: right;\">\n",
              "      <th></th>\n",
              "      <th>Datetime</th>\n",
              "      <th>Seeing</th>\n",
              "    </tr>\n",
              "  </thead>\n",
              "  <tbody>\n",
              "    <tr>\n",
              "      <th>0</th>\n",
              "      <td>2011-05-12</td>\n",
              "      <td>1.496963</td>\n",
              "    </tr>\n",
              "    <tr>\n",
              "      <th>1</th>\n",
              "      <td>2011-06-24</td>\n",
              "      <td>0.954734</td>\n",
              "    </tr>\n",
              "    <tr>\n",
              "      <th>2</th>\n",
              "      <td>2011-06-25</td>\n",
              "      <td>0.907572</td>\n",
              "    </tr>\n",
              "    <tr>\n",
              "      <th>3</th>\n",
              "      <td>2011-06-27</td>\n",
              "      <td>2.034281</td>\n",
              "    </tr>\n",
              "    <tr>\n",
              "      <th>4</th>\n",
              "      <td>2011-06-28</td>\n",
              "      <td>0.917489</td>\n",
              "    </tr>\n",
              "  </tbody>\n",
              "</table>\n",
              "</div>"
            ],
            "text/plain": [
              "    Datetime    Seeing\n",
              "0 2011-05-12  1.496963\n",
              "1 2011-06-24  0.954734\n",
              "2 2011-06-25  0.907572\n",
              "3 2011-06-27  2.034281\n",
              "4 2011-06-28  0.917489"
            ]
          },
          "metadata": {
            "tags": []
          },
          "execution_count": 98
        }
      ]
    },
    {
      "cell_type": "code",
      "metadata": {
        "ExecuteTime": {
          "end_time": "2021-03-02T20:24:44.554218Z",
          "start_time": "2021-03-02T20:24:43.384326Z"
        },
        "id": "joZoKJfqs2Rp",
        "colab": {
          "base_uri": "https://localhost:8080/"
        },
        "outputId": "5e8911d8-3d50-4b6e-dde0-066f29577d53"
      },
      "source": [
        "plt.figure(figsize = (8.4,6.8))\n",
        "\n",
        "plt.scatter(seeing_OASI_diario.Datetime, seeing_OASI_diario.Seeing, color = 'navy', label = '2011-2018', alpha = 1,lw = 0.8,edgecolor = 'black')\n",
        "plt.scatter(seeing_30_diario.Datetime, seeing_30_diario.Seeing, color = 'darkorange', label = '2019 - 30s', alpha = 1,lw = 0.8,edgecolor = 'black')\n",
        "plt.scatter(seeing_40_diario.Datetime, seeing_40_diario.Seeing, color = 'darkred', label = '2019 - 40s', alpha = 1,lw = 0.8,edgecolor = 'black')\n",
        "\n",
        "plt.ylim(bottom = 0, top = 1.5)\n",
        "plt.yticks(np.arange(1,2.5,0.5),size = 13)\n",
        "plt.ylabel('Seeing (\")', size = 15)\n",
        "\n",
        "plt.xticks(size = 13)\n",
        "plt.xlabel('Tempo de observação' + ' (Início ' + str(seeing_OASI_diario['Datetime'][0]) + ')', size = 13)\n",
        "\n",
        "plt.grid(axis = 'x')\n",
        "plt.legend()\n",
        "\n",
        "\n",
        "plt.savefig('seeing_OASI_2011-2019.png')\n",
        "plt.show()"
      ],
      "execution_count": null,
      "outputs": [
        {
          "output_type": "display_data",
          "data": {
            "image/png": "[encoded data removed]",
            "text/plain": [
              "<Figure size 604.8x489.6 with 1 Axes>"
            ]
          },
          "metadata": {
            "tags": [],
            "needs_background": "light"
          }
        }
      ]
    },
    {
      "cell_type": "code",
      "metadata": {
        "ExecuteTime": {
          "end_time": "2021-03-02T20:24:44.774492Z",
          "start_time": "2021-03-02T20:24:44.577925Z"
        },
        "id": "53ExN_vBs2Rq"
      },
      "source": [
        "seeing_OASI_diario_2011 = seeing_OASI_diario.set_index('Datetime').filter(like = '2011', axis = 0).reset_index()\n",
        "seeing_OASI_diario_2012 = seeing_OASI_diario.set_index('Datetime').filter(like = '2012', axis = 0).reset_index()\n",
        "seeing_OASI_diario_2013 = seeing_OASI_diario.set_index('Datetime').filter(like = '2013', axis = 0).reset_index()\n",
        "seeing_OASI_diario_2014 = seeing_OASI_diario.set_index('Datetime').filter(like = '2014', axis = 0).reset_index()\n",
        "seeing_OASI_diario_2015 = seeing_OASI_diario.set_index('Datetime').filter(like = '2015', axis = 0).reset_index()\n",
        "seeing_OASI_diario_2016 = seeing_OASI_diario.set_index('Datetime').filter(like = '2016', axis = 0).reset_index()\n",
        "seeing_OASI_diario_2017 = seeing_OASI_diario.set_index('Datetime').filter(like = '2017', axis = 0).reset_index()\n",
        "seeing_OASI_diario_2018 = seeing_OASI_diario.set_index('Datetime').filter(like = '2018', axis = 0).reset_index()"
      ],
      "execution_count": null,
      "outputs": []
    },
    {
      "cell_type": "code",
      "metadata": {
        "ExecuteTime": {
          "end_time": "2021-03-02T20:24:44.815358Z",
          "start_time": "2021-03-02T20:24:44.777755Z"
        },
        "id": "rHuOXYFxs2Rq",
        "colab": {
          "base_uri": "https://localhost:8080/"
        },
        "outputId": "240fcf5f-dfdd-4602-8e62-b6b67da1a745"
      },
      "source": [
        "seeing_OASI_diario_2012.dtypes"
      ],
      "execution_count": null,
      "outputs": [
        {
          "output_type": "execute_result",
          "data": {
            "text/plain": [
              "Datetime    datetime64[ns]\n",
              "Seeing             float64\n",
              "dtype: object"
            ]
          },
          "metadata": {
            "tags": []
          },
          "execution_count": 101
        }
      ]
    },
    {
      "cell_type": "code",
      "metadata": {
        "ExecuteTime": {
          "end_time": "2021-03-02T20:24:44.959047Z",
          "start_time": "2021-03-02T20:24:44.822352Z"
        },
        "id": "yKbQd7zLs2Rr"
      },
      "source": [
        "#seeing_OASI_diario_2011.Datetime = pd.to_datetime(seeing_OASI_diario_2011.Datetime)\n",
        "seeing_OASI_diario_2011.Datetime = Time(seeing_OASI_diario_2011.Datetime, scale = 'utc')\n",
        "seeing_OASI_diario_2012.Datetime = Time(seeing_OASI_diario_2012.Datetime, scale = 'utc')\n",
        "seeing_OASI_diario_2013.Datetime = Time(seeing_OASI_diario_2013.Datetime, scale = 'utc')\n",
        "seeing_OASI_diario_2014.Datetime = Time(seeing_OASI_diario_2014.Datetime, scale = 'utc')\n",
        "seeing_OASI_diario_2015.Datetime = Time(seeing_OASI_diario_2015.Datetime, scale = 'utc')\n",
        "seeing_OASI_diario_2016.Datetime = Time(seeing_OASI_diario_2016.Datetime, scale = 'utc')\n",
        "seeing_OASI_diario_2017.Datetime = Time(seeing_OASI_diario_2017.Datetime, scale = 'utc')\n",
        "seeing_OASI_diario_2018.Datetime = Time(seeing_OASI_diario_2018.Datetime, scale = 'utc')"
      ],
      "execution_count": null,
      "outputs": []
    },
    {
      "cell_type": "code",
      "metadata": {
        "colab": {
          "base_uri": "https://localhost:8080/"
        },
        "id": "YD0vHlEwJXEg",
        "outputId": "b92bfd05-cc5b-405f-893f-da9c1e89dba6"
      },
      "source": [
        "seeing_OASI_diario_2011.head()"
      ],
      "execution_count": null,
      "outputs": [
        {
          "output_type": "execute_result",
          "data": {
            "text/html": [
              "<div>\n",
              "<style scoped>\n",
              "    .dataframe tbody tr th:only-of-type {\n",
              "        vertical-align: middle;\n",
              "    }\n",
              "\n",
              "    .dataframe tbody tr th {\n",
              "        vertical-align: top;\n",
              "    }\n",
              "\n",
              "    .dataframe thead th {\n",
              "        text-align: right;\n",
              "    }\n",
              "</style>\n",
              "<table border=\"1\" class=\"dataframe\">\n",
              "  <thead>\n",
              "    <tr style=\"text-align: right;\">\n",
              "      <th></th>\n",
              "      <th>Datetime</th>\n",
              "      <th>Seeing</th>\n",
              "    </tr>\n",
              "  </thead>\n",
              "  <tbody>\n",
              "    <tr>\n",
              "      <th>0</th>\n",
              "      <td>2011-05-12T00:00:00.000000000</td>\n",
              "      <td>1.496963</td>\n",
              "    </tr>\n",
              "    <tr>\n",
              "      <th>1</th>\n",
              "      <td>2011-06-24T00:00:00.000000000</td>\n",
              "      <td>0.954734</td>\n",
              "    </tr>\n",
              "    <tr>\n",
              "      <th>2</th>\n",
              "      <td>2011-06-25T00:00:00.000000000</td>\n",
              "      <td>0.907572</td>\n",
              "    </tr>\n",
              "    <tr>\n",
              "      <th>3</th>\n",
              "      <td>2011-06-27T00:00:00.000000000</td>\n",
              "      <td>2.034281</td>\n",
              "    </tr>\n",
              "    <tr>\n",
              "      <th>4</th>\n",
              "      <td>2011-06-28T00:00:00.000000000</td>\n",
              "      <td>0.917489</td>\n",
              "    </tr>\n",
              "  </tbody>\n",
              "</table>\n",
              "</div>"
            ],
            "text/plain": [
              "                        Datetime    Seeing\n",
              "0  2011-05-12T00:00:00.000000000  1.496963\n",
              "1  2011-06-24T00:00:00.000000000  0.954734\n",
              "2  2011-06-25T00:00:00.000000000  0.907572\n",
              "3  2011-06-27T00:00:00.000000000  2.034281\n",
              "4  2011-06-28T00:00:00.000000000  0.917489"
            ]
          },
          "metadata": {
            "tags": []
          },
          "execution_count": 103
        }
      ]
    },
    {
      "cell_type": "code",
      "metadata": {
        "ExecuteTime": {
          "end_time": "2021-03-02T20:24:45.264199Z",
          "start_time": "2021-03-02T20:24:44.964753Z"
        },
        "id": "axYEMRDVs2Rr"
      },
      "source": [
        "it = Time('2011-01-01T00:00:00.000000000', format = 'isot' ,scale = 'utc')\n",
        "dt_2011 = [(i - it).value/30 for i in (seeing_OASI_diario_2011['Datetime'])]\n",
        "\n",
        "it = Time('2012-01-01T00:00:00.000000000', format = 'isot' ,scale = 'utc')\n",
        "dt_2012 = [(i - it).value/30 for i in (seeing_OASI_diario_2012['Datetime'])]\n",
        "\n",
        "it = Time('2013-01-01T00:00:00.000000000', format = 'isot' ,scale = 'utc')\n",
        "dt_2013 = [(i - it).value/30 for i in (seeing_OASI_diario_2013['Datetime'])]\n",
        "\n",
        "it = Time('2014-01-01T00:00:00.000000000', format = 'isot' ,scale = 'utc')\n",
        "dt_2014 = [(i - it).value/30 for i in (seeing_OASI_diario_2014['Datetime'])]\n",
        "\n",
        "it = Time('2015-01-01T00:00:00.000000000', format = 'isot' ,scale = 'utc')\n",
        "dt_2015 = [(i - it).value/30 for i in (seeing_OASI_diario_2015['Datetime'])]\n",
        "\n",
        "it = Time('2016-01-01T00:00:00.000000000', format = 'isot' ,scale = 'utc')\n",
        "dt_2016 = [(i - it).value/30 for i in (seeing_OASI_diario_2016['Datetime'])]\n",
        "\n",
        "it = Time('2017-01-01T00:00:00.000000000', format = 'isot' ,scale = 'utc')\n",
        "dt_2017 = [(i - it).value/30 for i in (seeing_OASI_diario_2017['Datetime'])]\n",
        "\n",
        "it = Time('2018-01-01T00:00:00.000000000', format = 'isot' ,scale = 'utc')\n",
        "dt_2018 = [(i - it).value/30 for i in (seeing_OASI_diario_2018['Datetime'])]"
      ],
      "execution_count": null,
      "outputs": []
    },
    {
      "cell_type": "code",
      "metadata": {
        "ExecuteTime": {
          "end_time": "2021-03-02T20:24:45.283716Z",
          "start_time": "2021-03-02T20:24:45.266709Z"
        },
        "id": "xmXD-qPEs2Rs",
        "colab": {
          "base_uri": "https://localhost:8080/"
        },
        "outputId": "08e4ffac-c74a-486a-bd01-a4fccf7c4ea9"
      },
      "source": [
        "seeing_30_diario.head()"
      ],
      "execution_count": null,
      "outputs": [
        {
          "output_type": "execute_result",
          "data": {
            "text/html": [
              "<div>\n",
              "<style scoped>\n",
              "    .dataframe tbody tr th:only-of-type {\n",
              "        vertical-align: middle;\n",
              "    }\n",
              "\n",
              "    .dataframe tbody tr th {\n",
              "        vertical-align: top;\n",
              "    }\n",
              "\n",
              "    .dataframe thead th {\n",
              "        text-align: right;\n",
              "    }\n",
              "</style>\n",
              "<table border=\"1\" class=\"dataframe\">\n",
              "  <thead>\n",
              "    <tr style=\"text-align: right;\">\n",
              "      <th></th>\n",
              "      <th>Datetime</th>\n",
              "      <th>Seeing</th>\n",
              "    </tr>\n",
              "  </thead>\n",
              "  <tbody>\n",
              "    <tr>\n",
              "      <th>0</th>\n",
              "      <td>2019-04-05</td>\n",
              "      <td>1.181833</td>\n",
              "    </tr>\n",
              "    <tr>\n",
              "      <th>1</th>\n",
              "      <td>2019-04-06</td>\n",
              "      <td>1.265739</td>\n",
              "    </tr>\n",
              "    <tr>\n",
              "      <th>2</th>\n",
              "      <td>2019-04-08</td>\n",
              "      <td>1.123272</td>\n",
              "    </tr>\n",
              "    <tr>\n",
              "      <th>3</th>\n",
              "      <td>2019-07-05</td>\n",
              "      <td>1.401407</td>\n",
              "    </tr>\n",
              "    <tr>\n",
              "      <th>4</th>\n",
              "      <td>2019-07-06</td>\n",
              "      <td>1.157226</td>\n",
              "    </tr>\n",
              "  </tbody>\n",
              "</table>\n",
              "</div>"
            ],
            "text/plain": [
              "    Datetime    Seeing\n",
              "0 2019-04-05  1.181833\n",
              "1 2019-04-06  1.265739\n",
              "2 2019-04-08  1.123272\n",
              "3 2019-07-05  1.401407\n",
              "4 2019-07-06  1.157226"
            ]
          },
          "metadata": {
            "tags": []
          },
          "execution_count": 105
        }
      ]
    },
    {
      "cell_type": "code",
      "metadata": {
        "ExecuteTime": {
          "end_time": "2021-03-02T20:24:45.390459Z",
          "start_time": "2021-03-02T20:24:45.291891Z"
        },
        "id": "bUy7UF_8s2Rs"
      },
      "source": [
        "seeing_30_diario.Datetime = Time(seeing_30_diario.Datetime, scale = 'utc')\n",
        "seeing_40_diario.Datetime = Time(seeing_40_diario.Datetime, scale = 'utc')"
      ],
      "execution_count": null,
      "outputs": []
    },
    {
      "cell_type": "code",
      "metadata": {
        "ExecuteTime": {
          "end_time": "2021-03-02T20:24:45.521891Z",
          "start_time": "2021-03-02T20:24:45.394156Z"
        },
        "id": "e7fX73Y3s2Rs"
      },
      "source": [
        "it = Time('2019-01-01T00:00:00.000000000', format = 'isot' ,scale = 'utc')\n",
        "dt_2019_30 = [(i - it).value/30 for i in (seeing_30_diario['Datetime'])]\n",
        "dt_2019_40 = [(i - it).value/30 for i in (seeing_40_diario['Datetime'])]"
      ],
      "execution_count": null,
      "outputs": []
    },
    {
      "cell_type": "code",
      "metadata": {
        "ExecuteTime": {
          "end_time": "2021-03-02T20:26:05.290724Z",
          "start_time": "2021-03-02T20:26:04.646837Z"
        },
        "scrolled": false,
        "id": "lIFs3mAIs2Rt",
        "colab": {
          "base_uri": "https://localhost:8080/"
        },
        "outputId": "718f47b7-309c-4842-d4c0-85a5e6029d7f"
      },
      "source": [
        "plt.scatter(dt_2011,seeing_OASI_diario_2011['Seeing'], label = '2011')\n",
        "plt.scatter(dt_2012,seeing_OASI_diario_2012['Seeing'], label = '2012')\n",
        "plt.scatter(dt_2013,seeing_OASI_diario_2013['Seeing'], label = '2013')\n",
        "plt.scatter(dt_2014,seeing_OASI_diario_2014['Seeing'], label = '2014')\n",
        "plt.scatter(dt_2015,seeing_OASI_diario_2015['Seeing'], label = '2015')\n",
        "plt.scatter(dt_2016,seeing_OASI_diario_2016['Seeing'], label = '2016')\n",
        "plt.scatter(dt_2017,seeing_OASI_diario_2017['Seeing'], label = '2017')\n",
        "plt.scatter(dt_2018,seeing_OASI_diario_2018['Seeing'], label = '2018')\n",
        "plt.scatter(dt_2019_40,seeing_40_diario['Seeing']    , label = '2019 - 40s')\n",
        "plt.xticks(np.arange(1,13,1), ['Jan','Fev','Mar','Abr','Mai','Jun','Jul','Ago','Set','Out','Nov','Dez'])\n",
        "plt.ylim(0.5,2)\n",
        "plt.legend(loc = 'lower center')"
      ],
      "execution_count": null,
      "outputs": [
        {
          "output_type": "execute_result",
          "data": {
            "text/plain": [
              "<matplotlib.legend.Legend at 0x7f0c8aaab210>"
            ]
          },
          "metadata": {
            "tags": []
          },
          "execution_count": 108
        },
        {
          "output_type": "display_data",
          "data": {
            "image/png": "[encoded data removed]",
            "text/plain": [
              "<Figure size 432x288 with 1 Axes>"
            ]
          },
          "metadata": {
            "tags": [],
            "needs_background": "light"
          }
        }
      ]
    },
    {
      "cell_type": "code",
      "metadata": {
        "ExecuteTime": {
          "end_time": "2021-03-02T20:46:14.865557Z",
          "start_time": "2021-03-02T20:46:12.408157Z"
        },
        "scrolled": false,
        "id": "IzkPauVbs2Rt",
        "colab": {
          "base_uri": "https://localhost:8080/"
        },
        "outputId": "8c7b0435-c204-4008-e1d1-3defd62a0c3f"
      },
      "source": [
        "fig, ax = plt.subplots(9,1, sharex = True, sharey = False)\n",
        "\n",
        "ax[0].scatter(dt_2011, seeing_OASI_diario_2011['Seeing'], label = '2011', color = 'navy' )\n",
        "ax[0].legend(['2011'], loc = 'right')\n",
        "ax[0].grid(axis = 'x')\n",
        "\n",
        "\n",
        "ax[1].scatter(dt_2012, seeing_OASI_diario_2012.Seeing, label = '2012', color = 'navy' )\n",
        "ax[1].legend(['2012'], loc = 'right')\n",
        "ax[1].grid(axis = 'x')\n",
        "\n",
        "\n",
        "ax[2].scatter(dt_2013, seeing_OASI_diario_2013.Seeing, label = '2013', color = 'navy' )\n",
        "ax[2].legend(['2013'], loc = 'right')\n",
        "ax[2].grid(axis = 'x')\n",
        "\n",
        "\n",
        "ax[3].scatter(dt_2014, seeing_OASI_diario_2014.Seeing, label = '2014', color = 'navy' )\n",
        "ax[3].legend(['2014'], loc = 'right')\n",
        "ax[3].grid(axis = 'x')\n",
        "\n",
        "\n",
        "ax[4].scatter(dt_2015, seeing_OASI_diario_2015.Seeing, label = '2015', color = 'navy' )\n",
        "ax[4].legend(['2015'], loc = 'right')\n",
        "ax[4].grid(axis = 'x')\n",
        "\n",
        "\n",
        "ax[5].scatter(dt_2016, seeing_OASI_diario_2016.Seeing, label = '2016', color = 'navy' )\n",
        "ax[5].legend(['2016'], loc = 'right')\n",
        "ax[5].grid(axis = 'x')\n",
        "\n",
        "\n",
        "ax[6].scatter(dt_2017, seeing_OASI_diario_2017.Seeing, label = '2017', color = 'navy' )\n",
        "ax[6].legend(['2017'], loc = 'right')\n",
        "ax[6].grid(axis = 'x')\n",
        "\n",
        "\n",
        "ax[7].scatter(dt_2018, seeing_OASI_diario_2018.Seeing, label = '2018', color = 'navy' )\n",
        "ax[7].legend(['2018'], loc = 'right')\n",
        "ax[7].grid(axis = 'x')\n",
        "\n",
        "\n",
        "ax[8].scatter(dt_2019_30, seeing_30_diario.Seeing, label = '30s - 2019', color = 'navy' )\n",
        "ax[8].scatter(dt_2019_40, seeing_40_diario.Seeing, label = '40s - 2019', color = 'orange' )\n",
        "ax[8].set_xlim(1)\n",
        "ax[8].set_xticks(np.arange(1,13,1))\n",
        "ax[8].set_xticklabels(['Jan','Fev','Mar','Abr','Mai','Jun','Jul','Ago','Set','Out','Nov','Dez'], size = 13)\n",
        "ax[8].set_xlabel('Tempo de observação', size = 13)\n",
        "\n",
        "ax[8].legend(['2019'], loc = 'right')\n",
        "ax[8].grid(axis = 'x')\n",
        "\n",
        "plt.setp(ax, ylim = (0,1.5))\n",
        "fig.text(0.09,0.5,'Seeing (\")', va = 'center', rotation='vertical', size = 13)\n",
        "fig.suptitle('OASI', size = 18)\n",
        "plt.savefig('seeingxtempo_2011-2019.png')"
      ],
      "execution_count": null,
      "outputs": [
        {
          "output_type": "display_data",
          "data": {
            "image/png": "[encoded data removed]",
            "text/plain": [
              "<Figure size 432x288 with 9 Axes>"
            ]
          },
          "metadata": {
            "tags": [],
            "needs_background": "light"
          }
        }
      ]
    },
    {
      "cell_type": "code",
      "metadata": {
        "id": "NXqjnVLSs2Rv"
      },
      "source": [],
      "execution_count": null,
      "outputs": []
    },
    {
      "cell_type": "markdown",
      "metadata": {
        "heading_collapsed": true,
        "id": "y0rzsg3-SQ_P"
      },
      "source": [
        "# **Dados OASI (PLOTLY)**"
      ]
    },
    {
      "cell_type": "code",
      "metadata": {
        "ExecuteTime": {
          "end_time": "2021-02-17T21:20:01.322604Z",
          "start_time": "2021-02-17T21:19:56.961035Z"
        },
        "hidden": true,
        "id": "CfBw2BvdSQ_N",
        "scrolled": false,
        "outputId": "ba1b187e-fc5c-4fd7-b933-c41cb58a7810"
      },
      "source": [
        "dados_dia['Rain'].iplot(kind = 'scatter',\n",
        "                        title = 'OASI - Média diária',\n",
        "                        xTitle = 'Data da observação',\n",
        "                        yTitle = 'Precipitação total (AUT) (mm)',\n",
        "                        mode = 'markers')\n",
        "#dados_dia['Hum'].plot()"
      ],
      "execution_count": null,
      "outputs": [
        {
          "output_type": "execute_result",
          "data": {
            "text/html": [
              "\n",
              "        <iframe\n",
              "            width=\"100%\"\n",
              "            height=\"525px\"\n",
              "            src=\"https://plotly.com/~taaaticorrea/121.embed\"\n",
              "            frameborder=\"0\"\n",
              "            allowfullscreen\n",
              "        ></iframe>\n",
              "        "
            ],
            "text/plain": [
              "<IPython.lib.display.IFrame at 0x7f817048b4c0>"
            ]
          },
          "metadata": {
            "tags": []
          },
          "execution_count": 214
        }
      ]
    },
    {
      "cell_type": "code",
      "metadata": {
        "hidden": true,
        "id": "zwKBdWGkSQ_Q"
      },
      "source": [],
      "execution_count": null,
      "outputs": []
    }
  ]
}